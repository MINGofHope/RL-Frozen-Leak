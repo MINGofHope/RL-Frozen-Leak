{
  "nbformat": 4,
  "nbformat_minor": 0,
  "metadata": {
    "colab": {
      "provenance": [],
      "collapsed_sections": [],
      "include_colab_link": true
    },
    "kernelspec": {
      "name": "python3",
      "display_name": "Python 3"
    },
    "language_info": {
      "name": "python"
    }
  },
  "cells": [
    {
      "cell_type": "markdown",
      "metadata": {
        "id": "view-in-github",
        "colab_type": "text"
      },
      "source": [
        "<a href=\"https://colab.research.google.com/github/MINGofHope/RL-Frozen-Leak/blob/master/Frozen_Lake.ipynb\" target=\"_parent\"><img src=\"https://colab.research.google.com/assets/colab-badge.svg\" alt=\"Open In Colab\"/></a>"
      ]
    },
    {
      "cell_type": "markdown",
      "source": [
        "# Table of contents\n",
        "- Reinforcement Learning & Markov Decision Process (MDP)\n",
        "- Problem statement \n",
        "  - Environment initialization for simulation\n",
        "- Project objective\n",
        "\n",
        "- Q Learning\n",
        "  - Q Tables\n",
        "  - Bellman Equation\n",
        "  - Exploration and Exploiration Trade off\n",
        "    - Q0 - Random\n",
        "    - Q1 - Greedy\n",
        "    - Q2 - Greedy - Linear episolon\n",
        "    - Q3 - Greedy - Exponential episolon\n",
        "\n",
        "- Deep Q Learning (DQN)\n",
        "  - Definition \n",
        "  - Significance \n",
        "  - Implementation\n",
        "    - Tensorflow\n",
        "    - Keras\n",
        "\n",
        "- Performance evalution\n",
        "  - Measure Metrics\n",
        "    - Reward \n",
        "    - Time usage\n",
        "    - Space complexity\n",
        "  - Comparison between QL and DQN \n",
        "    \n",
        "\n",
        "- References\n",
        "- Acknowledgement\n"
      ],
      "metadata": {
        "id": "d6jvnm244uPP"
      }
    },
    {
      "cell_type": "markdown",
      "source": [
        "# Problem Statement"
      ],
      "metadata": {
        "id": "lZ1XYre5_NP6"
      }
    },
    {
      "cell_type": "markdown",
      "source": [
        "## Environment"
      ],
      "metadata": {
        "id": "Mx4SCTe_QT19"
      }
    },
    {
      "cell_type": "code",
      "source": [
        "!pip install gym[toy_text]"
      ],
      "metadata": {
        "id": "YN-adfq8SD79",
        "colab": {
          "base_uri": "https://localhost:8080/"
        },
        "outputId": "a9635760-a3e2-48f6-e723-6675035adc33"
      },
      "execution_count": 1,
      "outputs": [
        {
          "output_type": "stream",
          "name": "stdout",
          "text": [
            "Looking in indexes: https://pypi.org/simple, https://us-python.pkg.dev/colab-wheels/public/simple/\n",
            "Requirement already satisfied: gym[toy_text] in /usr/local/lib/python3.7/dist-packages (0.25.2)\n",
            "Requirement already satisfied: numpy>=1.18.0 in /usr/local/lib/python3.7/dist-packages (from gym[toy_text]) (1.21.6)\n",
            "Requirement already satisfied: importlib-metadata>=4.8.0 in /usr/local/lib/python3.7/dist-packages (from gym[toy_text]) (4.12.0)\n",
            "Requirement already satisfied: cloudpickle>=1.2.0 in /usr/local/lib/python3.7/dist-packages (from gym[toy_text]) (1.5.0)\n",
            "Requirement already satisfied: gym-notices>=0.0.4 in /usr/local/lib/python3.7/dist-packages (from gym[toy_text]) (0.0.8)\n",
            "Requirement already satisfied: pygame==2.1.0 in /usr/local/lib/python3.7/dist-packages (from gym[toy_text]) (2.1.0)\n",
            "Requirement already satisfied: typing-extensions>=3.6.4 in /usr/local/lib/python3.7/dist-packages (from importlib-metadata>=4.8.0->gym[toy_text]) (4.1.1)\n",
            "Requirement already satisfied: zipp>=0.5 in /usr/local/lib/python3.7/dist-packages (from importlib-metadata>=4.8.0->gym[toy_text]) (3.8.1)\n"
          ]
        }
      ]
    },
    {
      "cell_type": "code",
      "source": [
        "import warnings\n",
        "warnings.filterwarnings('ignore')\n",
        "\n",
        "import gym\n",
        "import numpy as np\n",
        "import matplotlib.pyplot as plt\n",
        "\n",
        "\n",
        "plt.rcParams[\"figure.figsize\"] = (10,5)\n",
        "plt.rcParams.update({'font.size': 10})"
      ],
      "metadata": {
        "id": "KGzAw0FbTdAd"
      },
      "execution_count": 2,
      "outputs": []
    },
    {
      "cell_type": "code",
      "source": [
        "env = gym.make('FrozenLake-v1', desc=None, map_name=\"4x4\", is_slippery=False)\n",
        "\n",
        "n_ob = env.observation_space.n\n",
        "n_act = env.action_space.n\n",
        "print(n_ob, n_act)\n",
        "# env.render()"
      ],
      "metadata": {
        "colab": {
          "base_uri": "https://localhost:8080/"
        },
        "id": "U43HDSNpQSwB",
        "outputId": "886744b3-bde1-4056-f8df-cc5f48c67101"
      },
      "execution_count": 3,
      "outputs": [
        {
          "output_type": "stream",
          "name": "stdout",
          "text": [
            "16 4\n"
          ]
        },
        {
          "output_type": "stream",
          "name": "stderr",
          "text": [
            "/usr/local/lib/python3.7/dist-packages/gym/core.py:318: DeprecationWarning: \u001b[33mWARN: Initializing wrapper in old step API which returns one bool instead of two. It is recommended to set `new_step_api=True` to use new step API. This will be the default behaviour in future.\u001b[0m\n",
            "  \"Initializing wrapper in old step API which returns one bool instead of two. It is recommended to set `new_step_api=True` to use new step API. This will be the default behaviour in future.\"\n",
            "/usr/local/lib/python3.7/dist-packages/gym/wrappers/step_api_compatibility.py:40: DeprecationWarning: \u001b[33mWARN: Initializing environment in old step API which returns one bool instead of two. It is recommended to set `new_step_api=True` to use new step API. This will be the default behaviour in future.\u001b[0m\n",
            "  \"Initializing environment in old step API which returns one bool instead of two. It is recommended to set `new_step_api=True` to use new step API. This will be the default behaviour in future.\"\n"
          ]
        }
      ]
    },
    {
      "cell_type": "markdown",
      "source": [
        "# Project Objective"
      ],
      "metadata": {
        "id": "e_3DYp0bAF4K"
      }
    },
    {
      "cell_type": "markdown",
      "source": [
        "# Q-Learning"
      ],
      "metadata": {
        "id": "9_LcA0DrVwZS"
      }
    },
    {
      "cell_type": "markdown",
      "source": [
        "## Q0 - Random "
      ],
      "metadata": {
        "id": "jTDHaDAnV9lY"
      }
    },
    {
      "cell_type": "code",
      "source": [],
      "metadata": {
        "id": "z1D2saecabtn"
      },
      "execution_count": 3,
      "outputs": []
    },
    {
      "cell_type": "code",
      "source": [
        "# Initialize Q-table\n",
        "q = np.zeros((n_ob, n_act))\n",
        "\n",
        "# Parameters\n",
        "n_eps = 1000\n",
        "alpha = .5\n",
        "lambda_ = .9\n",
        "n0_success = 0\n",
        "result = []\n",
        "result_arr_0 = []\n",
        "\n",
        "# Training - Update Q values \n",
        "for eps in range(n_eps):\n",
        "  s = env.reset()\n",
        "  done = False\n",
        "  result.append('Failure')\n",
        "  result_arr_0.append(0)\n",
        "\n",
        "  while not done:\n",
        "\n",
        "    a = env.action_space.sample()\n",
        "\n",
        "    n_s, reward, done, info = env.step(a)\n",
        "\n",
        "    if reward:\n",
        "      n0_success += 1\n",
        "      result[-1] = 'Success'\n",
        "      result_arr_0[-1] = reward\n",
        "      break\n",
        "    \n",
        "  "
      ],
      "metadata": {
        "id": "IIIoWtC-Vd6N"
      },
      "execution_count": 4,
      "outputs": []
    },
    {
      "cell_type": "code",
      "source": [
        "plt.plot(result_arr_0)\n",
        "print(np.sum(result_arr_0) == n0_success)\n",
        "plt.scatter(range(n_eps),result_arr_0)"
      ],
      "metadata": {
        "colab": {
          "base_uri": "https://localhost:8080/",
          "height": 356
        },
        "id": "kOcYQCsrY-7n",
        "outputId": "bdd8b2fc-27b2-48be-a557-e70d5a8e9d30"
      },
      "execution_count": 5,
      "outputs": [
        {
          "output_type": "stream",
          "name": "stdout",
          "text": [
            "True\n"
          ]
        },
        {
          "output_type": "execute_result",
          "data": {
            "text/plain": [
              "<matplotlib.collections.PathCollection at 0x7f1897d1ccd0>"
            ]
          },
          "metadata": {},
          "execution_count": 5
        },
        {
          "output_type": "display_data",
          "data": {
            "text/plain": [
              "<Figure size 720x360 with 1 Axes>"
            ],
            "image/png": "[encoded data removed]"
          },
          "metadata": {
            "needs_background": "light"
          }
        }
      ]
    },
    {
      "cell_type": "markdown",
      "source": [
        "## Q1 - Greedy"
      ],
      "metadata": {
        "id": "jeJa853mWHv-"
      }
    },
    {
      "cell_type": "code",
      "source": [
        "# Initialize Q-table\n",
        "q = np.zeros((n_ob, n_act))\n",
        "\n",
        "# Parameters\n",
        "n_eps = 1000\n",
        "alpha = .5\n",
        "lambda_ = .9\n",
        "result_arr_1 = []\n",
        "\n",
        "# Training - Update Q values \n",
        "for eps in range(n_eps):\n",
        "  s = env.reset()\n",
        "  done = False\n",
        "  result_arr_1.append(0) \n",
        "\n",
        "  while not done:\n",
        "\n",
        "    # Use previous knowledge (exploitation) - choose action with the highest \n",
        "    # q value if applicable, otherwise random exploration  \n",
        "    if np.max(q[s]) > 0:\n",
        "      a = np.argmax(q[s])\n",
        "    else:\n",
        "      a = env.action_space.sample()\n",
        "\n",
        "    n_s, reward, done, info = env.step(a)\n",
        "    q[s, a] = q[s, a] + alpha * (reward + lambda_ * np.max(q[n_s, :]) - q[s, a])\n",
        "    s = n_s\n",
        "\n",
        "    if reward:\n",
        "      result_arr_1[-1] = reward\n",
        "      break \n",
        "  \n"
      ],
      "metadata": {
        "id": "LZTGkQLEU2lx"
      },
      "execution_count": 6,
      "outputs": []
    },
    {
      "cell_type": "code",
      "source": [
        "plt.scatter(range(n_eps),result_arr_1)\n",
        "print(np.sum(result_arr_1))"
      ],
      "metadata": {
        "colab": {
          "base_uri": "https://localhost:8080/",
          "height": 338
        },
        "id": "SsMHGzXxdHyM",
        "outputId": "37d1051e-f924-46a3-b5c0-08b110214464"
      },
      "execution_count": 7,
      "outputs": [
        {
          "output_type": "stream",
          "name": "stdout",
          "text": [
            "814.0\n"
          ]
        },
        {
          "output_type": "display_data",
          "data": {
            "text/plain": [
              "<Figure size 720x360 with 1 Axes>"
            ],
            "image/png": "[encoded data removed]"
          },
          "metadata": {
            "needs_background": "light"
          }
        }
      ]
    },
    {
      "cell_type": "markdown",
      "source": [
        "## Q2 - Greedy - Linear Episolon "
      ],
      "metadata": {
        "id": "zQ48ej8udbk8"
      }
    },
    {
      "cell_type": "code",
      "source": [
        "# Initialize Q-table\n",
        "q = np.zeros((n_ob, n_act))\n",
        "\n",
        "# Parameters\n",
        "n_eps = 1000\n",
        "alpha = .5\n",
        "lambda_ = .9\n",
        "result_arr_2 = []\n",
        "\n",
        "epsilon = 1\n",
        "epsilon_decay = 0.001\n",
        "epsilon_array = []\n",
        "\n",
        "# Training - Update Q values \n",
        "for eps in range(n_eps):\n",
        "  s = env.reset()\n",
        "  done = False\n",
        "  result_arr_2.append(0)\n",
        "  \n",
        "\n",
        "  while not done:\n",
        "\n",
        "    # Exploration and explioration tradeoff with a linear epislon  \n",
        "    if np.random.random() < epsilon:\n",
        "      a = env.action_space.sample()\n",
        "    else:\n",
        "      a = np.argmax(q[s])\n",
        "\n",
        "    n_s, reward, done, info = env.step(a)\n",
        "    q[s, a] = q[s, a] + alpha * (reward + lambda_ * np.max(q[n_s, :]) - q[s, a])\n",
        "    s = n_s\n",
        "\n",
        "    if reward:\n",
        "      result_arr_2[-1] = reward\n",
        "      break \n",
        "\n",
        "  epsilon_array.append(epsilon)\n",
        "  epsilon = np.max(epsilon - epsilon_decay, 0)\n",
        "  "
      ],
      "metadata": {
        "id": "rYiQ0TuZqDU_"
      },
      "execution_count": 8,
      "outputs": []
    },
    {
      "cell_type": "code",
      "source": [
        "plt.plot(epsilon_array)"
      ],
      "metadata": {
        "colab": {
          "base_uri": "https://localhost:8080/",
          "height": 338
        },
        "id": "7g093XnCzsyu",
        "outputId": "a3b43d1f-0004-4960-91b9-cb2754bdac96"
      },
      "execution_count": 9,
      "outputs": [
        {
          "output_type": "execute_result",
          "data": {
            "text/plain": [
              "[<matplotlib.lines.Line2D at 0x7f18842fc410>]"
            ]
          },
          "metadata": {},
          "execution_count": 9
        },
        {
          "output_type": "display_data",
          "data": {
            "text/plain": [
              "<Figure size 720x360 with 1 Axes>"
            ],
            "image/png": "[encoded data removed]"
          },
          "metadata": {
            "needs_background": "light"
          }
        }
      ]
    },
    {
      "cell_type": "code",
      "source": [
        "plt.scatter(range(n_eps),result_arr_2)\n",
        "print(np.sum(result_arr_2))\n",
        "print(len(result_arr_2))"
      ],
      "metadata": {
        "colab": {
          "base_uri": "https://localhost:8080/",
          "height": 356
        },
        "id": "wjrJ87tbrpqr",
        "outputId": "c0568eca-8c5c-4988-e9dd-c0e83c4da75b"
      },
      "execution_count": 10,
      "outputs": [
        {
          "output_type": "stream",
          "name": "stdout",
          "text": [
            "429.0\n",
            "1000\n"
          ]
        },
        {
          "output_type": "display_data",
          "data": {
            "text/plain": [
              "<Figure size 720x360 with 1 Axes>"
            ],
            "image/png": "[encoded data removed]"
          },
          "metadata": {
            "needs_background": "light"
          }
        }
      ]
    },
    {
      "cell_type": "markdown",
      "source": [
        "## Q3 - Greedy - Exponetial Episolon"
      ],
      "metadata": {
        "id": "py55g0T8pu0B"
      }
    },
    {
      "cell_type": "code",
      "source": [
        "# Initialize Q-table\n",
        "q = np.zeros((n_ob, n_act))\n",
        "\n",
        "# Parameters\n",
        "n_eps = 1000\n",
        "alpha = .5\n",
        "lambda_ = .9\n",
        "result_arr_3 = []\n",
        "\n",
        "epsilon = 1.0\n",
        "epsilon_decay = 0.001\n",
        "epsilon_array = []\n",
        "\n",
        "# Training - Update Q values \n",
        "for eps in range(n_eps):\n",
        "  s = env.reset()\n",
        "  done = False\n",
        "  result_arr_3.append(0)\n",
        "\n",
        "  while not done:\n",
        "\n",
        "    # Exploration and explioration tradeoff with a exponetial epislon  \n",
        "    if np.random.random() < epsilon:\n",
        "      a = env.action_space.sample()\n",
        "    else:\n",
        "      a = np.argmax(q[s])\n",
        "\n",
        "    n_s, reward, done, info = env.step(a)\n",
        "    q[s, a] = q[s, a] + alpha * (reward + lambda_ * np.max(q[n_s, :]) - q[s, a])\n",
        "    s = n_s\n",
        "\n",
        "    if reward:\n",
        "      result_arr_3[-1] = reward\n",
        "      break \n",
        " \n",
        "  epsilon_array.append(epsilon)\n",
        "  epsilon = np.exp(-epsilon_decay * eps)"
      ],
      "metadata": {
        "id": "fZs2s5JPmm1p"
      },
      "execution_count": 11,
      "outputs": []
    },
    {
      "cell_type": "code",
      "source": [
        "plt.plot(epsilon_array)"
      ],
      "metadata": {
        "colab": {
          "base_uri": "https://localhost:8080/",
          "height": 338
        },
        "id": "dSznkVHJvbcp",
        "outputId": "55185346-655e-49fe-a1c6-0ec9b4a753b1"
      },
      "execution_count": 12,
      "outputs": [
        {
          "output_type": "execute_result",
          "data": {
            "text/plain": [
              "[<matplotlib.lines.Line2D at 0x7f1884238d10>]"
            ]
          },
          "metadata": {},
          "execution_count": 12
        },
        {
          "output_type": "display_data",
          "data": {
            "text/plain": [
              "<Figure size 720x360 with 1 Axes>"
            ],
            "image/png": "[encoded data removed]"
          },
          "metadata": {
            "needs_background": "light"
          }
        }
      ]
    },
    {
      "cell_type": "code",
      "source": [
        "plt.scatter(range(n_eps),result_arr_3)"
      ],
      "metadata": {
        "colab": {
          "base_uri": "https://localhost:8080/",
          "height": 338
        },
        "id": "34b5oXAnoLye",
        "outputId": "048e2f11-7a15-40a6-d05f-9523e915f0d9"
      },
      "execution_count": 13,
      "outputs": [
        {
          "output_type": "execute_result",
          "data": {
            "text/plain": [
              "<matplotlib.collections.PathCollection at 0x7f188421ffd0>"
            ]
          },
          "metadata": {},
          "execution_count": 13
        },
        {
          "output_type": "display_data",
          "data": {
            "text/plain": [
              "<Figure size 720x360 with 1 Axes>"
            ],
            "image/png": "[encoded data removed]"
          },
          "metadata": {
            "needs_background": "light"
          }
        }
      ]
    },
    {
      "cell_type": "markdown",
      "source": [
        "## Object-oriented Programming (OOP)\n"
      ],
      "metadata": {
        "id": "UpN6XIAc4QXt"
      }
    },
    {
      "cell_type": "code",
      "source": [
        "class Qagent:\n",
        "\n",
        "  def __init__(self, name='FrozenLake-v1', n_episodes = 1000, learning_rate = .5, \\\n",
        "               discount  = .9, epsilon = 1, epsilon_decay = 0.001, method='Q1'):\n",
        "    # trainning parameters\n",
        "    self.n_episodes = n_episodes\n",
        "    self.alpha = learning_rate\n",
        "    self.lambda_ = discount\n",
        "    self.epislon = epsilon\n",
        "    self.epsilon_decay = epsilon_decay\n",
        "    self.method = method\n",
        "\n",
        "    # load environment\n",
        "    self.env = gym.make(name, desc=None, map_name=\"4x4\", is_slippery=False)\n",
        "\n",
        "  def create_qt(self):\n",
        "    self.state_size = self.env.observation_space.n\n",
        "    self.action_size = self.env.action_space.n\n",
        "    q_table = np.zeros((self.state_size, self.action_size))\n",
        "    return q_table\n",
        "\n",
        "  def reset(self):\n",
        "    state = self.env.reset()\n",
        "    done = False\n",
        "    return state, done\n",
        "\n",
        "  def action(self, q, state):\n",
        "    # Choose anction base on method, q0, q1, q2, q3\n",
        "    if self.method == 'Q0':\n",
        "      action = self.env.action_space.sample()\n",
        "    elif self.method == 'Q1':\n",
        "      if np.max(q[state]) > 0:\n",
        "        action = np.argmax([q[state]])\n",
        "      else:\n",
        "        action = self.env.action_space.sample()\n",
        "    else:\n",
        "      if np.random.random() < self.epislon:\n",
        "        action = self.env.action_space.sample()\n",
        "      else:\n",
        "        action = np.argmax(q[state])\n",
        "    return action\n",
        "  \n",
        "  def train(self):\n",
        "\n",
        "    q = self.create_qt()\n",
        "\n",
        "    self.epislon_array = []\n",
        "    self.result_arr = []\n",
        "\n",
        "\n",
        "    for episode in range(self.n_episodes):\n",
        "      \n",
        "      state, done = self.reset()\n",
        "\n",
        "      self.result_arr.append(0)\n",
        "\n",
        "      while not done:\n",
        "\n",
        "        action = self.action(q, state)\n",
        "\n",
        "        n_state, reward, done, info = self.env.step(action)\n",
        "\n",
        "        #\n",
        "        q[state, action] = q[state, action] + alpha * (reward + lambda_ * np.max(q[n_state, :]) - q[state, action])\n",
        "\n",
        "        state = n_state\n",
        "\n",
        "        if reward:\n",
        "          self.result_arr[-1] = reward\n",
        "          break \n",
        "\n",
        "      if self.method == 'Q3':\n",
        "        self.epislon_array.append(self.epislon)\n",
        "        self.epislon = np.exp(-self.epsilon_decay * episode)\n",
        "      \n",
        "      if self.method == 'Q2':\n",
        "        self.epislon_array.append(self.epislon)\n",
        "        self.epislon = max(self.epislon - self.epsilon_decay, 0)\n",
        "\n",
        "    return self.epislon_array, self.result_arr\n",
        "\n",
        "  def test(self):\n",
        "    pass\n",
        "\n",
        "  def visulize(self):\n",
        "    fig, (ax1, ax2) = plt.subplots(1,2)\n",
        "    ax1.plot(self.epislon_array)\n",
        "    ax1.set_xlabel('# of Eposides'); ax1.set_ylabel('Epislon')\n",
        "    ax2.scatter(range(self.n_episodes), self.result_arr)\n",
        "    ax2.set_xlabel('# of Eposides'); ax2.set_ylabel('Reward (Success 1, Failure 0)')"
      ],
      "metadata": {
        "id": "t8cuQp5IPkGD"
      },
      "execution_count": 14,
      "outputs": []
    },
    {
      "cell_type": "code",
      "source": [
        "methods = ['Q0', 'Q1', 'Q2', 'Q3']\n",
        "for m in methods:\n",
        "  qAgent = Qagent(method=m) \n",
        "  _, result = qAgent.train()\n",
        "  print(f'For Method {m}, Tranning accuracy(success rate) is {np.sum(result)/qAgent.n_episodes}')\n",
        "  qAgent.visulize()\n",
        "\n",
        "# When n_episodes = 2000\n",
        "# For Method Q0, Tranning accuracy(success rate) is 0.013\n",
        "# For Method Q1, Tranning accuracy(success rate) is 0.944\n",
        "# For Method Q2, Tranning accuracy(success rate) is 0.7155\n",
        "# For Method Q3, Tranning accuracy(success rate) is 0.5065"
      ],
      "metadata": {
        "colab": {
          "base_uri": "https://localhost:8080/",
          "height": 1000
        },
        "id": "XnH80YTtWxyM",
        "outputId": "2357d3a5-a918-48bf-c463-03d6f3ff173e"
      },
      "execution_count": 15,
      "outputs": [
        {
          "output_type": "stream",
          "name": "stdout",
          "text": [
            "For Method Q0, Tranning accuracy(success rate) is 0.013\n",
            "For Method Q1, Tranning accuracy(success rate) is 0.966\n",
            "For Method Q2, Tranning accuracy(success rate) is 0.445\n",
            "For Method Q3, Tranning accuracy(success rate) is 0.254\n"
          ]
        },
        {
          "output_type": "display_data",
          "data": {
            "text/plain": [
              "<Figure size 720x360 with 2 Axes>"
            ],
            "image/png": "[encoded data removed]"
          },
          "metadata": {
            "needs_background": "light"
          }
        },
        {
          "output_type": "display_data",
          "data": {
            "text/plain": [
              "<Figure size 720x360 with 2 Axes>"
            ],
            "image/png": "[encoded data removed]"
          },
          "metadata": {
            "needs_background": "light"
          }
        },
        {
          "output_type": "display_data",
          "data": {
            "text/plain": [
              "<Figure size 720x360 with 2 Axes>"
            ],
            "image/png": "[encoded data removed]"
          },
          "metadata": {
            "needs_background": "light"
          }
        },
        {
          "output_type": "display_data",
          "data": {
            "text/plain": [
              "<Figure size 720x360 with 2 Axes>"
            ],
            "image/png": "[encoded data removed]"
          },
          "metadata": {
            "needs_background": "light"
          }
        }
      ]
    },
    {
      "cell_type": "code",
      "source": [
        "class Qagent:\n",
        "\n",
        "  def __init__(self, name='FrozenLake-v1', n_episodes = 1000, learning_rate = .5, \\\n",
        "               discount  = .9, epsilon = 1, epsilon_decay = 0.001, method='Q1'):\n",
        "    # trainning parameters\n",
        "    self.n_episodes = n_episodes\n",
        "    self.alpha = learning_rate\n",
        "    self.lambda_ = discount\n",
        "    self.epislon = epsilon\n",
        "    self.epsilon_decay = epsilon_decay\n",
        "    self.method = method\n",
        "\n",
        "    # load environment\n",
        "    self.env = gym.make(name, desc=None, map_name=\"4x4\", is_slippery=False)\n",
        "\n",
        "  def create_qt(self):\n",
        "    self.state_size = self.env.observation_space.n\n",
        "    self.action_size = self.env.action_space.n\n",
        "    q_table = np.zeros((self.state_size, self.action_size))\n",
        "    return q_table\n",
        "\n",
        "  def reset(self):\n",
        "    state = self.env.reset()\n",
        "    done = False\n",
        "    return state, done\n",
        "\n",
        "  def action(self, q, state):\n",
        "    # Choose anction base on method, q0, q1, q2, q3\n",
        "    if self.method == 'Q0':\n",
        "      action = self.env.action_space.sample()\n",
        "    elif self.method == 'Q1':\n",
        "      if np.max(q[state]) > 0:\n",
        "        action = np.argmax([q[state]])\n",
        "      else:\n",
        "        action = self.env.action_space.sample()\n",
        "    else:\n",
        "      if np.random.random() < self.epislon:\n",
        "        action = self.env.action_space.sample()\n",
        "      else:\n",
        "        action = np.argmax(q[state])\n",
        "    return action\n",
        "\n",
        "  def update_q(self, q, state, action, n_state, reward):\n",
        "    q[state, action] = q[state, action] - \\\n",
        "        self.alpha * (reward + self.lambda_ * np.max(q[n_state, :]) \\\n",
        "                      - q[state, action])\n",
        "    return q[state, action]\n",
        "  \n",
        "  def dynamic_epsilon(self, epislon_array, epislon, epsilon_decay, episode):\n",
        "    if self.method == 'Q3':\n",
        "      self.epislon_array.append(epislon)\n",
        "      self.epislon = np.exp(-epsilon_decay * episode)\n",
        "    \n",
        "    if self.method == 'Q2':\n",
        "      self.epislon_array.append(self.epislon)\n",
        "      self.epislon = max(self.epislon - epsilon_decay, 0)\n",
        "    return self.epislon_array\n",
        "\n",
        "  def train(self):\n",
        "\n",
        "    q = self.create_qt()\n",
        "\n",
        "    self.epislon_array = []\n",
        "    self.result_arr = []\n",
        "\n",
        "\n",
        "    for episode in range(self.n_episodes):\n",
        "      \n",
        "      state, done = self.reset()\n",
        "\n",
        "      self.result_arr.append(0)\n",
        "\n",
        "      while not done:\n",
        "\n",
        "        action = self.action(q, state)\n",
        "\n",
        "        n_state, reward, done, info = self.env.step(action)\n",
        "\n",
        "        # q[state, action] = self.update_q(q, state, action, n_state, reward)\n",
        "        q[state, action] = q[state, action] + alpha * (reward + lambda_ * np.max(q[n_state, :]) - q[state, action])\n",
        "\n",
        "        state = n_state\n",
        "\n",
        "        if reward:\n",
        "          self.result_arr[-1] = reward\n",
        "          break \n",
        "\n",
        "      # if self.method == 'Q3':\n",
        "      #   self.epislon_array.append(self.epislon)\n",
        "      #   self.epislon = np.exp(-self.epsilon_decay * episode)\n",
        "      \n",
        "      # if self.method == 'Q2':\n",
        "      #   self.epislon_array.append(self.epislon)\n",
        "      #   self.epislon = max(self.epislon - self.epsilon_decay, 0)\n",
        "\n",
        "\n",
        "        \n",
        "\n",
        "      self.epislon_array = self.dynamic_epsilon(self.epislon_array, self.epislon, self.epsilon_decay, episode)\n",
        "\n",
        "\n",
        "    return self.epislon_array, self.result_arr\n",
        "\n",
        "  def test(self):\n",
        "    pass\n",
        "\n",
        "  def visulize(self):\n",
        "    fig, (ax1, ax2) = plt.subplots(1,2)\n",
        "    ax1.plot(self.epislon_array)\n",
        "    ax1.set_xlabel('# of Eposides'); ax1.set_ylabel('Epislon')\n",
        "    ax2.scatter(range(self.n_episodes), self.result_arr)\n",
        "    ax2.set_xlabel('# of Eposides'); ax2.set_ylabel('Reward (Success 1, Failure 0)')"
      ],
      "metadata": {
        "id": "9F5pQtXa4BuO"
      },
      "execution_count": 16,
      "outputs": []
    },
    {
      "cell_type": "code",
      "source": [
        "methods = ['Q0', 'Q1', 'Q2', 'Q3']\n",
        "for m in methods:\n",
        "  qAgent = Qagent(method=m) \n",
        "  _, result = qAgent.train()\n",
        "  print(f'For Method {m}, Tranning accuracy(success rate) is {np.sum(result)/qAgent.n_episodes}')\n",
        "  qAgent.visulize()"
      ],
      "metadata": {
        "colab": {
          "base_uri": "https://localhost:8080/",
          "height": 367
        },
        "id": "z3xNKBW-4h-x",
        "outputId": "0f935785-1b56-476d-a8ba-51cc1214dc18"
      },
      "execution_count": 17,
      "outputs": [
        {
          "output_type": "error",
          "ename": "NameError",
          "evalue": "ignored",
          "traceback": [
            "\u001b[0;31m---------------------------------------------------------------------------\u001b[0m",
            "\u001b[0;31mNameError\u001b[0m                                 Traceback (most recent call last)",
            "\u001b[0;32m<ipython-input-17-5e40b2c5ed91>\u001b[0m in \u001b[0;36m<module>\u001b[0;34m\u001b[0m\n\u001b[1;32m      2\u001b[0m \u001b[0;32mfor\u001b[0m \u001b[0mm\u001b[0m \u001b[0;32min\u001b[0m \u001b[0mmethods\u001b[0m\u001b[0;34m:\u001b[0m\u001b[0;34m\u001b[0m\u001b[0;34m\u001b[0m\u001b[0m\n\u001b[1;32m      3\u001b[0m   \u001b[0mqAgent\u001b[0m \u001b[0;34m=\u001b[0m \u001b[0mQagent\u001b[0m\u001b[0;34m(\u001b[0m\u001b[0mmethod\u001b[0m\u001b[0;34m=\u001b[0m\u001b[0mm\u001b[0m\u001b[0;34m)\u001b[0m\u001b[0;34m\u001b[0m\u001b[0;34m\u001b[0m\u001b[0m\n\u001b[0;32m----> 4\u001b[0;31m   \u001b[0m_\u001b[0m\u001b[0;34m,\u001b[0m \u001b[0mresult\u001b[0m \u001b[0;34m=\u001b[0m \u001b[0mqAgent\u001b[0m\u001b[0;34m.\u001b[0m\u001b[0mtrain\u001b[0m\u001b[0;34m(\u001b[0m\u001b[0;34m)\u001b[0m\u001b[0;34m\u001b[0m\u001b[0;34m\u001b[0m\u001b[0m\n\u001b[0m\u001b[1;32m      5\u001b[0m   \u001b[0mprint\u001b[0m\u001b[0;34m(\u001b[0m\u001b[0;34mf'For Method {m}, Tranning accuracy(success rate) is {np.sum(result)/qAgent.n_episodes}'\u001b[0m\u001b[0;34m)\u001b[0m\u001b[0;34m\u001b[0m\u001b[0;34m\u001b[0m\u001b[0m\n\u001b[1;32m      6\u001b[0m   \u001b[0mqAgent\u001b[0m\u001b[0;34m.\u001b[0m\u001b[0mvisulize\u001b[0m\u001b[0;34m(\u001b[0m\u001b[0;34m)\u001b[0m\u001b[0;34m\u001b[0m\u001b[0;34m\u001b[0m\u001b[0m\n",
            "\u001b[0;32m<ipython-input-16-90b59e455200>\u001b[0m in \u001b[0;36mtrain\u001b[0;34m(self)\u001b[0m\n\u001b[1;32m     97\u001b[0m \u001b[0;34m\u001b[0m\u001b[0m\n\u001b[1;32m     98\u001b[0m \u001b[0;34m\u001b[0m\u001b[0m\n\u001b[0;32m---> 99\u001b[0;31m       \u001b[0mself\u001b[0m\u001b[0;34m.\u001b[0m\u001b[0mepislon_array\u001b[0m \u001b[0;34m=\u001b[0m \u001b[0mself\u001b[0m\u001b[0;34m.\u001b[0m\u001b[0mdynamic_epsilon\u001b[0m\u001b[0;34m(\u001b[0m\u001b[0mepislon_array\u001b[0m\u001b[0;34m,\u001b[0m \u001b[0mself\u001b[0m\u001b[0;34m.\u001b[0m\u001b[0mepislon\u001b[0m\u001b[0;34m,\u001b[0m \u001b[0mself\u001b[0m\u001b[0;34m.\u001b[0m\u001b[0mepsilon_decay\u001b[0m\u001b[0;34m)\u001b[0m\u001b[0;34m\u001b[0m\u001b[0;34m\u001b[0m\u001b[0m\n\u001b[0m\u001b[1;32m    100\u001b[0m \u001b[0;34m\u001b[0m\u001b[0m\n\u001b[1;32m    101\u001b[0m \u001b[0;34m\u001b[0m\u001b[0m\n",
            "\u001b[0;31mNameError\u001b[0m: name 'epislon_array' is not defined"
          ]
        }
      ]
    },
    {
      "cell_type": "markdown",
      "source": [
        "# Deep Q Network (DQN）"
      ],
      "metadata": {
        "id": "JjsMM1P2A4FY"
      }
    },
    {
      "cell_type": "markdown",
      "source": [
        "## DQNK - Keras"
      ],
      "metadata": {
        "id": "fi6GYKICBWao"
      }
    },
    {
      "cell_type": "markdown",
      "source": [
        "## DQNT - Tensorflow"
      ],
      "metadata": {
        "id": "EhpOcn4gBZzi"
      }
    },
    {
      "cell_type": "markdown",
      "source": [
        "# Performance Evaluation"
      ],
      "metadata": {
        "id": "kWsywfruBt-d"
      }
    },
    {
      "cell_type": "markdown",
      "source": [
        "To do list:\n",
        "- Logical writing & function trial, like action, step, new state display\n",
        "- How to render for all eposides\n",
        "- Other performance metrics\n",
        "- Class for comparing different epsilon greedy optimization using time pacakage on baseline\n",
        "- dqn implementation\n",
        "- comparion between dqn and best q learning\n",
        "- How can we ensure that all the result is reproduced\n"
      ],
      "metadata": {
        "id": "J8WpQaezQFp5"
      }
    },
    {
      "cell_type": "code",
      "source": [],
      "metadata": {
        "id": "yFxi7Ks8qCGX"
      },
      "execution_count": null,
      "outputs": []
    },
    {
      "cell_type": "code",
      "source": [],
      "metadata": {
        "id": "5v_BoIWioLFL"
      },
      "execution_count": null,
      "outputs": []
    },
    {
      "cell_type": "markdown",
      "source": [
        "# References\n",
        "- [Frozen Lake Official Documentation](https://www.gymlibrary.dev/environments/toy_text/frozen_lake/)\n",
        "- [Q-learning for beginners\n",
        "Train an AI to solve the Frozen Lake environment](https://mlabonne.github.io/blog/reinforcement%20learning/q-learning/frozen%20lake/gym/tutorial/2022/02/13/Q_learning.html)\n",
        "- [DQN - Reinforcement Learning with Frozen Lake](https://martin-ueding.de/posts/reinforcement-learning-with-frozen-lake/)\n",
        "- [Q-learning - taxi problem](https://github.com/MINGofHope/RL-Frozen-Leak/blob/master/ref_openai_gym_taxi_tutorial.ipynb)\n",
        "- [DQN - taxi problem in lecture ](https://github.com/MINGofHope/RL-Frozen-Leak/blob/master/ref_DQN_Taxi_v3.ipynb)\n",
        "- [Github tutorial if applicable](https://www.youtube.com/watch?v=RGOj5yH7evk)\n",
        "- [Tenorflow & Keras official documentation](https://www.tensorflow.org/guide/basics)\n",
        "- [DQN - Frozen Lake - Keras - Code](https://github.com/hamedmokazemi/DeepQLearning_FrozenLake_1)\n",
        "- [DQN - Frozen Lake - Tensorflow ](https://www.youtube.com/watch?v=Fcmgl8ow2Uc)\n",
        "- [DQN - Intro - Tensorflow - Official Documentation](https://www.tensorflow.org/agents/tutorials/0_intro_rl)\n",
        "- [DQN - Carpole - Tensorflow - Official Documentation](https://www.tensorflow.org/agents/tutorials/1_dqn_tutorial)"
      ],
      "metadata": {
        "id": "NSlxyeTp-jWv"
      }
    },
    {
      "cell_type": "markdown",
      "source": [
        "# Project Management\n",
        "Task Split & Time Arrangement \n",
        "- Report Draft\n",
        "- Q Learing implemetation & Evaluation\n",
        "- DQN implementation & Evaluation   🔔 (Oct 2, flexible)\n",
        "\n"
      ],
      "metadata": {
        "id": "o4RxBf_yCvBt"
      }
    },
    {
      "cell_type": "markdown",
      "source": [
        "# Problems that you have faced "
      ],
      "metadata": {
        "id": "EumWsaM3DlAS"
      }
    },
    {
      "cell_type": "markdown",
      "source": [],
      "metadata": {
        "id": "H4Aw6n_nMfe2"
      }
    }
  ]
}