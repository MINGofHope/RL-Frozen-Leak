{
  "nbformat": 4,
  "nbformat_minor": 0,
  "metadata": {
    "colab": {
      "provenance": [],
      "toc_visible": true,
      "include_colab_link": true
    },
    "kernelspec": {
      "name": "python3",
      "display_name": "Python 3"
    },
    "language_info": {
      "name": "python"
    }
  },
  "cells": [
    {
      "cell_type": "markdown",
      "metadata": {
        "id": "view-in-github",
        "colab_type": "text"
      },
      "source": [
        "<a href=\"https://colab.research.google.com/github/MINGofHope/RL-Frozen-Leak/blob/master/Frozen_Lake.ipynb\" target=\"_parent\"><img src=\"https://colab.research.google.com/assets/colab-badge.svg\" alt=\"Open In Colab\"/></a>"
      ]
    },
    {
      "cell_type": "markdown",
      "source": [
        "# Table of contents\n",
        "- Problem statement \n",
        "- Environment initialization\n",
        "- Q Learning\n",
        "  - Reinforcement Learning & Markov Decision Process (MDP)\n",
        "  - Bellman Equation\n",
        "  - Q Tables & Learning intuition and its **implementation**\n",
        "  - Exploration and Exploiration\n",
        "\n",
        "- Deep Q Learning (DQN)\n",
        "  - Definition \n",
        "  - Significance \n",
        "  - Implementation\n",
        "\n",
        "- Performance evalution\n",
        "  - Render\n",
        "  - Success rate vs. Eposides\n",
        "  - Comparison between QL and QLN \n",
        "\n",
        "- References\n",
        "\n"
      ],
      "metadata": {
        "id": "d6jvnm244uPP"
      }
    },
    {
      "cell_type": "markdown",
      "source": [
        "# Environment"
      ],
      "metadata": {
        "id": "Mx4SCTe_QT19"
      }
    },
    {
      "cell_type": "code",
      "source": [
        "# !pip install gym[toy_text]"
      ],
      "metadata": {
        "id": "YN-adfq8SD79"
      },
      "execution_count": 45,
      "outputs": []
    },
    {
      "cell_type": "code",
      "source": [
        "import gym\n",
        "import numpy as np\n",
        "\n",
        "import warnings\n",
        "warnings.filterwarnings('ignore')"
      ],
      "metadata": {
        "id": "KGzAw0FbTdAd"
      },
      "execution_count": 46,
      "outputs": []
    },
    {
      "cell_type": "code",
      "source": [
        "env = gym.make('FrozenLake-v1', desc=None, map_name=\"4x4\", is_slippery=False)\n",
        "n_ob = env.observation_space.n\n",
        "n_act = env.action_space.n\n",
        "print(n_ob, n_act)\n",
        "# env.render()"
      ],
      "metadata": {
        "colab": {
          "base_uri": "https://localhost:8080/"
        },
        "id": "U43HDSNpQSwB",
        "outputId": "3ff9d313-0aa5-4bd8-c3f6-00b0319b12dc"
      },
      "execution_count": 47,
      "outputs": [
        {
          "output_type": "stream",
          "name": "stdout",
          "text": [
            "16 4\n"
          ]
        }
      ]
    },
    {
      "cell_type": "code",
      "source": [
        "q = np.zeros((n_ob, n_act))\n",
        "print(q)"
      ],
      "metadata": {
        "colab": {
          "base_uri": "https://localhost:8080/"
        },
        "id": "6tAomcF0UHWW",
        "outputId": "11d17728-f72e-4b6a-9053-7fdb525b9a1d"
      },
      "execution_count": 48,
      "outputs": [
        {
          "output_type": "stream",
          "name": "stdout",
          "text": [
            "[[0. 0. 0. 0.]\n",
            " [0. 0. 0. 0.]\n",
            " [0. 0. 0. 0.]\n",
            " [0. 0. 0. 0.]\n",
            " [0. 0. 0. 0.]\n",
            " [0. 0. 0. 0.]\n",
            " [0. 0. 0. 0.]\n",
            " [0. 0. 0. 0.]\n",
            " [0. 0. 0. 0.]\n",
            " [0. 0. 0. 0.]\n",
            " [0. 0. 0. 0.]\n",
            " [0. 0. 0. 0.]\n",
            " [0. 0. 0. 0.]\n",
            " [0. 0. 0. 0.]\n",
            " [0. 0. 0. 0.]\n",
            " [0. 0. 0. 0.]]\n"
          ]
        }
      ]
    },
    {
      "cell_type": "code",
      "source": [
        "n_eps = 100\n",
        "n_steps = 10\n",
        "\n",
        "alpha = .5\n",
        "lambda_ = .9\n",
        "n_sucess = 0\n",
        "result = []\n",
        "\n",
        "for eps in range(n_eps):\n",
        "  s = env.reset()\n",
        "  result.append('Failure')\n",
        "\n",
        "  for step in range(n_steps):\n",
        "\n",
        "    a = env.action_space.sample()\n",
        "    n_s, r, stop, info = env.step(a)\n",
        "    q[s, a] = q[s, a] + alpha * (r + lambda_ * np.max(q[n_s]) - q[s, a])\n",
        "    s = n_s\n",
        "\n",
        "    if stop:\n",
        "      n_sucess += 1\n",
        "      result[-1] = 'Success'\n",
        "      break"
      ],
      "metadata": {
        "id": "LZTGkQLEU2lx"
      },
      "execution_count": 49,
      "outputs": []
    },
    {
      "cell_type": "code",
      "source": [
        "q"
      ],
      "metadata": {
        "colab": {
          "base_uri": "https://localhost:8080/"
        },
        "id": "KQ-Y7e5BZKsO",
        "outputId": "648c69d5-ae25-49be-9ed8-c73cdf8bb7c5"
      },
      "execution_count": 50,
      "outputs": [
        {
          "output_type": "execute_result",
          "data": {
            "text/plain": [
              "array([[0. , 0. , 0. , 0. ],\n",
              "       [0. , 0. , 0. , 0. ],\n",
              "       [0. , 0. , 0. , 0. ],\n",
              "       [0. , 0. , 0. , 0. ],\n",
              "       [0. , 0. , 0. , 0. ],\n",
              "       [0. , 0. , 0. , 0. ],\n",
              "       [0. , 0. , 0. , 0. ],\n",
              "       [0. , 0. , 0. , 0. ],\n",
              "       [0. , 0. , 0. , 0. ],\n",
              "       [0. , 0. , 0. , 0. ],\n",
              "       [0. , 0. , 0. , 0. ],\n",
              "       [0. , 0. , 0. , 0. ],\n",
              "       [0. , 0. , 0. , 0. ],\n",
              "       [0. , 0. , 0. , 0. ],\n",
              "       [0. , 0. , 0.5, 0. ],\n",
              "       [0. , 0. , 0. , 0. ]])"
            ]
          },
          "metadata": {},
          "execution_count": 50
        }
      ]
    },
    {
      "cell_type": "code",
      "source": [
        "print(n_sucess / n_eps)"
      ],
      "metadata": {
        "colab": {
          "base_uri": "https://localhost:8080/"
        },
        "id": "zo-AxWp3Z0C6",
        "outputId": "a78840c0-900f-4ed4-db7d-26c6dc538528"
      },
      "execution_count": 51,
      "outputs": [
        {
          "output_type": "stream",
          "name": "stdout",
          "text": [
            "0.83\n"
          ]
        }
      ]
    },
    {
      "cell_type": "code",
      "source": [
        "import matplotlib.pyplot as plt\n",
        "plt.bar(range(n_eps), result, color=\"#0A047A\", width=1.0)\n",
        "print(result)"
      ],
      "metadata": {
        "colab": {
          "base_uri": "https://localhost:8080/",
          "height": 302
        },
        "id": "eEUCfwlCam6e",
        "outputId": "6e1c39b1-86c2-43af-aede-1387362c5242"
      },
      "execution_count": 52,
      "outputs": [
        {
          "output_type": "stream",
          "name": "stdout",
          "text": [
            "['Success', 'Success', 'Success', 'Success', 'Success', 'Success', 'Failure', 'Success', 'Success', 'Success', 'Failure', 'Success', 'Success', 'Success', 'Failure', 'Failure', 'Failure', 'Success', 'Success', 'Success', 'Success', 'Failure', 'Success', 'Failure', 'Success', 'Success', 'Success', 'Failure', 'Failure', 'Failure', 'Success', 'Failure', 'Success', 'Success', 'Success', 'Success', 'Success', 'Success', 'Success', 'Success', 'Success', 'Success', 'Success', 'Success', 'Success', 'Success', 'Success', 'Success', 'Success', 'Success', 'Success', 'Success', 'Success', 'Success', 'Failure', 'Success', 'Success', 'Success', 'Success', 'Success', 'Failure', 'Success', 'Failure', 'Success', 'Success', 'Success', 'Success', 'Success', 'Success', 'Success', 'Success', 'Success', 'Success', 'Success', 'Failure', 'Success', 'Success', 'Success', 'Success', 'Success', 'Success', 'Success', 'Success', 'Failure', 'Success', 'Success', 'Success', 'Success', 'Success', 'Success', 'Success', 'Failure', 'Success', 'Success', 'Success', 'Success', 'Success', 'Success', 'Success', 'Success']\n"
          ]
        },
        {
          "output_type": "display_data",
          "data": {
            "text/plain": [
              "<Figure size 432x288 with 1 Axes>"
            ],
            "image/png": "[encoded data removed]"
          },
          "metadata": {
            "needs_background": "light"
          }
        }
      ]
    },
    {
      "cell_type": "markdown",
      "source": [
        "To do list:\n",
        "- Logical writing & function trial, like action, step, new state display\n",
        "- How to render for all eposides\n",
        "- Other performance metrics\n",
        "- Class for comparing different epsilon greedy optimization using time pacakage on baseline\n",
        "- dqn implementation\n",
        "- comparion between dqn and best q learning\n",
        "- How can we ensure that all the result is reproduced\n"
      ],
      "metadata": {
        "id": "J8WpQaezQFp5"
      }
    },
    {
      "cell_type": "markdown",
      "source": [
        "# References\n",
        "- [Frozen Lake Official Documentation](https://www.gymlibrary.dev/environments/toy_text/frozen_lake/)\n",
        "- [Q-learning for beginners\n",
        "Train an AI to solve the Frozen Lake environment](https://mlabonne.github.io/blog/reinforcement%20learning/q-learning/frozen%20lake/gym/tutorial/2022/02/13/Q_learning.html)\n",
        "- [DQN - Reinforcement Learning with Frozen Lake](https://martin-ueding.de/posts/reinforcement-learning-with-frozen-lake/)\n",
        "- [Q-learning - taxi problem](https://github.com/MINGofHope/RL-Frozen-Leak/blob/master/ref_openai_gym_taxi_tutorial.ipynb)\n",
        "- [DQN - taxi problem in lecture ](https://github.com/MINGofHope/RL-Frozen-Leak/blob/master/ref_DQN_Taxi_v3.ipynb)\n",
        "- [Github tutorial if applicable](https://www.youtube.com/watch?v=RGOj5yH7evk)"
      ],
      "metadata": {
        "id": "NSlxyeTp-jWv"
      }
    },
    {
      "cell_type": "code",
      "source": [],
      "metadata": {
        "id": "svnppF4dU1OI"
      },
      "execution_count": null,
      "outputs": []
    },
    {
      "cell_type": "markdown",
      "source": [
        "# Project Management\n",
        "Task Split & Time Arrangement \n",
        "- Report Draft\n",
        "- Q Learing implemetation & Evaluation\n",
        "- DQN implementation & Evaluation   🔔 (Oct 2, flexible)\n",
        "\n"
      ],
      "metadata": {
        "id": "o4RxBf_yCvBt"
      }
    },
    {
      "cell_type": "markdown",
      "source": [
        "# Problems that you have faced "
      ],
      "metadata": {
        "id": "EumWsaM3DlAS"
      }
    },
    {
      "cell_type": "markdown",
      "source": [],
      "metadata": {
        "id": "H4Aw6n_nMfe2"
      }
    }
  ]
}