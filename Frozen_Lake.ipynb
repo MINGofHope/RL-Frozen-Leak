{
  "nbformat": 4,
  "nbformat_minor": 0,
  "metadata": {
    "colab": {
      "provenance": [],
      "toc_visible": true,
      "include_colab_link": true
    },
    "kernelspec": {
      "name": "python3",
      "display_name": "Python 3"
    },
    "language_info": {
      "name": "python"
    }
  },
  "cells": [
    {
      "cell_type": "markdown",
      "metadata": {
        "id": "view-in-github",
        "colab_type": "text"
      },
      "source": [
        "<a href=\"https://colab.research.google.com/github/MINGofHope/RL-Frozen-Leak/blob/master/Frozen_Lake.ipynb\" target=\"_parent\"><img src=\"https://colab.research.google.com/assets/colab-badge.svg\" alt=\"Open In Colab\"/></a>"
      ]
    },
    {
      "cell_type": "markdown",
      "source": [
        "# Table of contents\n",
        "- Problem statement \n",
        "- Environment initialization\n",
        "- Q Learning\n",
        "  - Reinforcement Learning & Markov Decision Process (MDP)\n",
        "  - Bellman Equation\n",
        "  - Q Tables & Learning intuition and its **implementation**\n",
        "  - Exploration and Exploiration\n",
        "\n",
        "- Deep Q Learning (DQN)\n",
        "  - Definition \n",
        "  - Significance \n",
        "  - Implementation\n",
        "\n",
        "- Performance evalution\n",
        "  - Render\n",
        "  - Success rate vs. Eposides\n",
        "  - Comparison between QL and QLN \n",
        "\n",
        "- References\n",
        "\n"
      ],
      "metadata": {
        "id": "d6jvnm244uPP"
      }
    },
    {
      "cell_type": "markdown",
      "source": [
        "# References\n",
        "- [Frozen Lake Official Documentation](https://www.gymlibrary.dev/environments/toy_text/frozen_lake/)\n",
        "- [Q-learning for beginners\n",
        "Train an AI to solve the Frozen Lake environment](https://mlabonne.github.io/blog/reinforcement%20learning/q-learning/frozen%20lake/gym/tutorial/2022/02/13/Q_learning.html)\n",
        "- [DQN - Reinforcement Learning with Frozen Lake](https://martin-ueding.de/posts/reinforcement-learning-with-frozen-lake/)\n",
        "- [Q-learning - taxi problem](https://github.com/MINGofHope/RL-Frozen-Leak/blob/master/ref_openai_gym_taxi_tutorial.ipynb)\n",
        "- [DQN - taxi problem in lecture ](https://github.com/MINGofHope/RL-Frozen-Leak/blob/master/ref_DQN_Taxi_v3.ipynb)\n",
        "- [Github tutorial if applicable](https://www.youtube.com/watch?v=RGOj5yH7evk)"
      ],
      "metadata": {
        "id": "NSlxyeTp-jWv"
      }
    },
    {
      "cell_type": "markdown",
      "source": [
        "# Project Management\n",
        "Task Split & Time Arrangement \n",
        "- Report Draft\n",
        "- Q Learing implemetation & Evaluation\n",
        "- DQN implementation & Evaluation   🔔 (Oct 2, flexible)\n",
        "\n"
      ],
      "metadata": {
        "id": "o4RxBf_yCvBt"
      }
    },
    {
      "cell_type": "markdown",
      "source": [
        "# Problems that you have faced "
      ],
      "metadata": {
        "id": "EumWsaM3DlAS"
      }
    },
    {
      "cell_type": "markdown",
      "source": [],
      "metadata": {
        "id": "E_uUivTUGDt1"
      }
    }
  ]
}