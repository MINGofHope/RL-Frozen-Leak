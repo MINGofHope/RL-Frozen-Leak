{
  "nbformat": 4,
  "nbformat_minor": 0,
  "metadata": {
    "colab": {
      "provenance": [],
      "toc_visible": true,
      "collapsed_sections": [],
      "include_colab_link": true
    },
    "kernelspec": {
      "name": "python3",
      "display_name": "Python 3"
    },
    "language_info": {
      "name": "python"
    }
  },
  "cells": [
    {
      "cell_type": "markdown",
      "metadata": {
        "id": "view-in-github",
        "colab_type": "text"
      },
      "source": [
        "<a href=\"https://colab.research.google.com/github/MINGofHope/RL-Frozen-Leak/blob/master/Frozen_Lake.ipynb\" target=\"_parent\"><img src=\"https://colab.research.google.com/assets/colab-badge.svg\" alt=\"Open In Colab\"/></a>"
      ]
    },
    {
      "cell_type": "markdown",
      "source": [
        "# Table of contents\n",
        "- Problem statement \n",
        "- \n",
        "- Environment initialization\n",
        "- Q Learning\n",
        "  - Reinforcement Learning & Markov Decision Process (MDP)\n",
        "  - Bellman Equation\n",
        "  - Q Tables & Learning intuition and its **implementation**\n",
        "  - Exploration and Exploiration\n",
        "\n",
        "- Deep Q Learning (DQN)\n",
        "  - Definition \n",
        "  - Significance \n",
        "  - Implementation\n",
        "\n",
        "- Performance evalution\n",
        "  - Render\n",
        "  - Success rate vs. Eposides\n",
        "  - Comparison between QL and QLN \n",
        "\n",
        "- References\n",
        "\n"
      ],
      "metadata": {
        "id": "d6jvnm244uPP"
      }
    },
    {
      "cell_type": "markdown",
      "source": [
        "# Environment"
      ],
      "metadata": {
        "id": "Mx4SCTe_QT19"
      }
    },
    {
      "cell_type": "code",
      "source": [
        "# !pip install gym[toy_text]"
      ],
      "metadata": {
        "id": "YN-adfq8SD79"
      },
      "execution_count": 1,
      "outputs": []
    },
    {
      "cell_type": "code",
      "source": [
        "import gym\n",
        "import numpy as np\n",
        "import matplotlib.pyplot as plt\n",
        "\n",
        "import matplotlib.pyplot as plt\n",
        "\n",
        "\n",
        "import warnings\n",
        "warnings.filterwarnings('ignore')"
      ],
      "metadata": {
        "id": "KGzAw0FbTdAd"
      },
      "execution_count": 2,
      "outputs": []
    },
    {
      "cell_type": "code",
      "source": [
        "env = gym.make('FrozenLake-v1', desc=None, map_name=\"4x4\", is_slippery=False)\n",
        "\n",
        "n_ob = env.observation_space.n\n",
        "n_act = env.action_space.n\n",
        "print(n_ob, n_act)\n",
        "# env.render()"
      ],
      "metadata": {
        "colab": {
          "base_uri": "https://localhost:8080/"
        },
        "id": "U43HDSNpQSwB",
        "outputId": "4d9103ac-e040-44af-cbc3-14da5fac78ad"
      },
      "execution_count": 3,
      "outputs": [
        {
          "output_type": "stream",
          "name": "stdout",
          "text": [
            "16 4\n"
          ]
        }
      ]
    },
    {
      "cell_type": "markdown",
      "source": [
        "# Q-Learning"
      ],
      "metadata": {
        "id": "9_LcA0DrVwZS"
      }
    },
    {
      "cell_type": "markdown",
      "source": [
        "## Q0 - Random "
      ],
      "metadata": {
        "id": "jTDHaDAnV9lY"
      }
    },
    {
      "cell_type": "code",
      "source": [
        "plt.rcParams[\"figure.figsize\"] = (10,5)\n",
        "plt.rcParams.update({'font.size': 10})"
      ],
      "metadata": {
        "id": "z1D2saecabtn"
      },
      "execution_count": 4,
      "outputs": []
    },
    {
      "cell_type": "code",
      "source": [
        "# Initialize Q-table\n",
        "q = np.zeros((n_ob, n_act))\n",
        "\n",
        "# Parameters\n",
        "n_eps = 1000\n",
        "alpha = .5\n",
        "lambda_ = .9\n",
        "n0_success = 0\n",
        "result = []\n",
        "result_arr_0 = []\n",
        "\n",
        "# Training - Update Q values \n",
        "for eps in range(n_eps):\n",
        "  s = env.reset()\n",
        "  done = False\n",
        "  result.append('Failure')\n",
        "  result_arr_0.append(0)\n",
        "\n",
        "  while not done:\n",
        "\n",
        "    a = env.action_space.sample()\n",
        "\n",
        "    n_s, reward, done, info = env.step(a)\n",
        "\n",
        "    if reward:\n",
        "      n0_success += 1\n",
        "      result[-1] = 'Success'\n",
        "      result_arr_0[-1] = reward\n",
        "      break\n",
        "    \n",
        "  "
      ],
      "metadata": {
        "id": "IIIoWtC-Vd6N"
      },
      "execution_count": 5,
      "outputs": []
    },
    {
      "cell_type": "code",
      "source": [
        "plt.plot(result_arr_0)\n",
        "print(np.sum(result_arr_0) == n0_success)\n",
        "plt.scatter(range(n_eps),result_arr_0)"
      ],
      "metadata": {
        "colab": {
          "base_uri": "https://localhost:8080/",
          "height": 355
        },
        "id": "kOcYQCsrY-7n",
        "outputId": "1110bae6-8178-41a4-f638-edc2510249ec"
      },
      "execution_count": 6,
      "outputs": [
        {
          "output_type": "stream",
          "name": "stdout",
          "text": [
            "True\n"
          ]
        },
        {
          "output_type": "execute_result",
          "data": {
            "text/plain": [
              "<matplotlib.collections.PathCollection at 0x7fdeb388ff50>"
            ]
          },
          "metadata": {},
          "execution_count": 6
        },
        {
          "output_type": "display_data",
          "data": {
            "text/plain": [
              "<Figure size 720x360 with 1 Axes>"
            ],
            "image/png": "[encoded data removed]"
          },
          "metadata": {
            "needs_background": "light"
          }
        }
      ]
    },
    {
      "cell_type": "markdown",
      "source": [
        "## Q1 - Greedy"
      ],
      "metadata": {
        "id": "jeJa853mWHv-"
      }
    },
    {
      "cell_type": "code",
      "source": [
        "# Initialize Q-table\n",
        "q = np.zeros((n_ob, n_act))\n",
        "\n",
        "# Parameters\n",
        "n_eps = 1000\n",
        "alpha = .5\n",
        "lambda_ = .9\n",
        "result_arr_1 = []\n",
        "\n",
        "# Training - Update Q values \n",
        "for eps in range(n_eps):\n",
        "  s = env.reset()\n",
        "  done = False\n",
        "  result_arr_1.append(0) \n",
        "\n",
        "  while not done:\n",
        "\n",
        "    # Use previous knowledge (exploitation) - choose action with the highest \n",
        "    # q value if applicable, otherwise random exploration  \n",
        "    if np.max(q[s]) > 0:\n",
        "      a = np.argmax(q[s])\n",
        "    else:\n",
        "      a = env.action_space.sample()\n",
        "\n",
        "    n_s, reward, done, info = env.step(a)\n",
        "    q[s, a] = q[s, a] + alpha * (reward + lambda_ * np.max(q[n_s, :]) - q[s, a])\n",
        "    s = n_s\n",
        "\n",
        "    if reward:\n",
        "      result_arr_1[-1] = reward\n",
        "      break \n",
        "  \n"
      ],
      "metadata": {
        "id": "LZTGkQLEU2lx"
      },
      "execution_count": 7,
      "outputs": []
    },
    {
      "cell_type": "code",
      "source": [
        "plt.scatter(range(n_eps),result_arr_1)\n",
        "print(np.sum(result_arr_1))"
      ],
      "metadata": {
        "colab": {
          "base_uri": "https://localhost:8080/",
          "height": 337
        },
        "id": "SsMHGzXxdHyM",
        "outputId": "d9740511-5937-4041-973b-1e6a11dc2253"
      },
      "execution_count": 8,
      "outputs": [
        {
          "output_type": "stream",
          "name": "stdout",
          "text": [
            "787.0\n"
          ]
        },
        {
          "output_type": "display_data",
          "data": {
            "text/plain": [
              "<Figure size 720x360 with 1 Axes>"
            ],
            "image/png": "[encoded data removed]"
          },
          "metadata": {
            "needs_background": "light"
          }
        }
      ]
    },
    {
      "cell_type": "markdown",
      "source": [
        "## Q2 - Greedy - Linear Episolon "
      ],
      "metadata": {
        "id": "zQ48ej8udbk8"
      }
    },
    {
      "cell_type": "code",
      "source": [
        "# Initialize Q-table\n",
        "q = np.zeros((n_ob, n_act))\n",
        "\n",
        "# Parameters\n",
        "n_eps = 1000\n",
        "alpha = .5\n",
        "lambda_ = .9\n",
        "result_arr_2 = []\n",
        "\n",
        "epsilon = 1\n",
        "epsilon_decay = 0.001\n",
        "epsilon_array = []\n",
        "\n",
        "# Training - Update Q values \n",
        "for eps in range(n_eps):\n",
        "  s = env.reset()\n",
        "  done = False\n",
        "  result_arr_2.append(0)\n",
        "  \n",
        "\n",
        "  while not done:\n",
        "\n",
        "    # Exploration and explioration tradeoff with a linear epislon  \n",
        "    if np.random.random() < epsilon:\n",
        "      a = env.action_space.sample()\n",
        "    else:\n",
        "      a = np.argmax(q[s])\n",
        "\n",
        "    n_s, reward, done, info = env.step(a)\n",
        "    q[s, a] = q[s, a] + alpha * (reward + lambda_ * np.max(q[n_s, :]) - q[s, a])\n",
        "    s = n_s\n",
        "\n",
        "    if reward:\n",
        "      result_arr_2[-1] = reward\n",
        "      break \n",
        "\n",
        "  epsilon_array.append(epsilon)\n",
        "  epsilon = np.max(epsilon - epsilon_decay, 0)\n",
        "  "
      ],
      "metadata": {
        "id": "rYiQ0TuZqDU_"
      },
      "execution_count": 9,
      "outputs": []
    },
    {
      "cell_type": "code",
      "source": [
        "plt.plot(epsilon_array)"
      ],
      "metadata": {
        "colab": {
          "base_uri": "https://localhost:8080/",
          "height": 337
        },
        "id": "7g093XnCzsyu",
        "outputId": "d0594979-61d6-4dbe-f7ad-a8542cf608f7"
      },
      "execution_count": 10,
      "outputs": [
        {
          "output_type": "execute_result",
          "data": {
            "text/plain": [
              "[<matplotlib.lines.Line2D at 0x7fdeb37ff090>]"
            ]
          },
          "metadata": {},
          "execution_count": 10
        },
        {
          "output_type": "display_data",
          "data": {
            "text/plain": [
              "<Figure size 720x360 with 1 Axes>"
            ],
            "image/png": "[encoded data removed]"
          },
          "metadata": {
            "needs_background": "light"
          }
        }
      ]
    },
    {
      "cell_type": "code",
      "source": [
        "plt.scatter(range(n_eps),result_arr_2)\n",
        "print(np.sum(result_arr_2))"
      ],
      "metadata": {
        "colab": {
          "base_uri": "https://localhost:8080/",
          "height": 337
        },
        "id": "wjrJ87tbrpqr",
        "outputId": "8335fe6e-a719-447e-fbe3-d6868e5ff0ff"
      },
      "execution_count": 11,
      "outputs": [
        {
          "output_type": "stream",
          "name": "stdout",
          "text": [
            "394.0\n"
          ]
        },
        {
          "output_type": "display_data",
          "data": {
            "text/plain": [
              "<Figure size 720x360 with 1 Axes>"
            ],
            "image/png": "[encoded data removed]"
          },
          "metadata": {
            "needs_background": "light"
          }
        }
      ]
    },
    {
      "cell_type": "markdown",
      "source": [
        "## Q3 - Greedy - Exponetial Episolon"
      ],
      "metadata": {
        "id": "py55g0T8pu0B"
      }
    },
    {
      "cell_type": "code",
      "source": [
        "# Initialize Q-table\n",
        "q = np.zeros((n_ob, n_act))\n",
        "\n",
        "# Parameters\n",
        "n_eps = 1000\n",
        "alpha = .5\n",
        "lambda_ = .9\n",
        "result_arr_3 = []\n",
        "\n",
        "epsilon = 1.0\n",
        "epsilon_decay = 0.005\n",
        "epsilon_array = []\n",
        "\n",
        "# Training - Update Q values \n",
        "for eps in range(n_eps):\n",
        "  s = env.reset()\n",
        "  done = False\n",
        "  result_arr_3.append(0)\n",
        "\n",
        "  while not done:\n",
        "\n",
        "    # Exploration and explioration tradeoff with a exponetial epislon  \n",
        "    if np.random.random() < epsilon:\n",
        "      a = env.action_space.sample()\n",
        "    else:\n",
        "      a = np.argmax(q[s])\n",
        "\n",
        "    n_s, reward, done, info = env.step(a)\n",
        "    q[s, a] = q[s, a] + alpha * (reward + lambda_ * np.max(q[n_s, :]) - q[s, a])\n",
        "    s = n_s\n",
        "\n",
        "    if reward:\n",
        "      result_arr_3[-1] = reward\n",
        "      break \n",
        " \n",
        "  epsilon_array.append(epsilon)\n",
        "  epsilon = np.exp(-epsilon_decay * eps)"
      ],
      "metadata": {
        "id": "fZs2s5JPmm1p"
      },
      "execution_count": 12,
      "outputs": []
    },
    {
      "cell_type": "code",
      "source": [
        "plt.plot(epsilon_array)"
      ],
      "metadata": {
        "colab": {
          "base_uri": "https://localhost:8080/",
          "height": 337
        },
        "id": "dSznkVHJvbcp",
        "outputId": "2b311997-168c-4ba8-81ad-1c880cea2bf1"
      },
      "execution_count": 13,
      "outputs": [
        {
          "output_type": "execute_result",
          "data": {
            "text/plain": [
              "[<matplotlib.lines.Line2D at 0x7fdeb327e110>]"
            ]
          },
          "metadata": {},
          "execution_count": 13
        },
        {
          "output_type": "display_data",
          "data": {
            "text/plain": [
              "<Figure size 720x360 with 1 Axes>"
            ],
            "image/png": "[encoded data removed]"
          },
          "metadata": {
            "needs_background": "light"
          }
        }
      ]
    },
    {
      "cell_type": "code",
      "source": [
        "plt.scatter(range(n_eps),result_arr_3)"
      ],
      "metadata": {
        "colab": {
          "base_uri": "https://localhost:8080/",
          "height": 337
        },
        "id": "34b5oXAnoLye",
        "outputId": "0a82a0f1-c861-4956-d4f2-ea7e10b044ea"
      },
      "execution_count": 14,
      "outputs": [
        {
          "output_type": "execute_result",
          "data": {
            "text/plain": [
              "<matplotlib.collections.PathCollection at 0x7fdeb31eae50>"
            ]
          },
          "metadata": {},
          "execution_count": 14
        },
        {
          "output_type": "display_data",
          "data": {
            "text/plain": [
              "<Figure size 720x360 with 1 Axes>"
            ],
            "image/png": "[encoded data removed]"
          },
          "metadata": {
            "needs_background": "light"
          }
        }
      ]
    },
    {
      "cell_type": "markdown",
      "source": [
        "## Object-oriented Programming (OOP)\n"
      ],
      "metadata": {
        "id": "UpN6XIAc4QXt"
      }
    },
    {
      "cell_type": "markdown",
      "source": [
        "To do list:\n",
        "- Logical writing & function trial, like action, step, new state display\n",
        "- How to render for all eposides\n",
        "- Other performance metrics\n",
        "- Class for comparing different epsilon greedy optimization using time pacakage on baseline\n",
        "- dqn implementation\n",
        "- comparion between dqn and best q learning\n",
        "- How can we ensure that all the result is reproduced\n"
      ],
      "metadata": {
        "id": "J8WpQaezQFp5"
      }
    },
    {
      "cell_type": "code",
      "source": [],
      "metadata": {
        "id": "yFxi7Ks8qCGX"
      },
      "execution_count": 14,
      "outputs": []
    },
    {
      "cell_type": "code",
      "source": [],
      "metadata": {
        "id": "5v_BoIWioLFL"
      },
      "execution_count": 14,
      "outputs": []
    },
    {
      "cell_type": "markdown",
      "source": [
        "# References\n",
        "- [Frozen Lake Official Documentation](https://www.gymlibrary.dev/environments/toy_text/frozen_lake/)\n",
        "- [Q-learning for beginners\n",
        "Train an AI to solve the Frozen Lake environment](https://mlabonne.github.io/blog/reinforcement%20learning/q-learning/frozen%20lake/gym/tutorial/2022/02/13/Q_learning.html)\n",
        "- [DQN - Reinforcement Learning with Frozen Lake](https://martin-ueding.de/posts/reinforcement-learning-with-frozen-lake/)\n",
        "- [Q-learning - taxi problem](https://github.com/MINGofHope/RL-Frozen-Leak/blob/master/ref_openai_gym_taxi_tutorial.ipynb)\n",
        "- [DQN - taxi problem in lecture ](https://github.com/MINGofHope/RL-Frozen-Leak/blob/master/ref_DQN_Taxi_v3.ipynb)\n",
        "- [Github tutorial if applicable](https://www.youtube.com/watch?v=RGOj5yH7evk)"
      ],
      "metadata": {
        "id": "NSlxyeTp-jWv"
      }
    },
    {
      "cell_type": "code",
      "source": [],
      "metadata": {
        "id": "svnppF4dU1OI"
      },
      "execution_count": 14,
      "outputs": []
    },
    {
      "cell_type": "markdown",
      "source": [
        "# Project Management\n",
        "Task Split & Time Arrangement \n",
        "- Report Draft\n",
        "- Q Learing implemetation & Evaluation\n",
        "- DQN implementation & Evaluation   🔔 (Oct 2, flexible)\n",
        "\n"
      ],
      "metadata": {
        "id": "o4RxBf_yCvBt"
      }
    },
    {
      "cell_type": "markdown",
      "source": [
        "# Problems that you have faced "
      ],
      "metadata": {
        "id": "EumWsaM3DlAS"
      }
    },
    {
      "cell_type": "markdown",
      "source": [],
      "metadata": {
        "id": "H4Aw6n_nMfe2"
      }
    }
  ]
}