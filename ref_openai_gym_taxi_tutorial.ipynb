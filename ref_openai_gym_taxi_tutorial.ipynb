{
  "cells": [
    {
      "cell_type": "markdown",
      "metadata": {
        "id": "view-in-github",
        "colab_type": "text"
      },
      "source": [
        "<a href=\"https://colab.research.google.com/github/MINGofHope/RL-Frozen-Leak/blob/master/ref_openai_gym_taxi_tutorial.ipynb\" target=\"_parent\"><img src=\"https://colab.research.google.com/assets/colab-badge.svg\" alt=\"Open In Colab\"/></a>"
      ]
    },
    {
      "cell_type": "markdown",
      "metadata": {
        "id": "A8lDQuQEnS8_"
      },
      "source": [
        "# Tutorial: An Introduction to Reinforcement Learning Using OpenAI Gym's Taxi 🚕"
      ]
    },
    {
      "cell_type": "markdown",
      "metadata": {
        "id": "ziMM6qgmncE5"
      },
      "source": [
        "In this introductory tutorial, we'll apply reinforcement learning (RL) to train an agent to solve the ['Taxi' environment from OpenAI Gym](https://gym.openai.com/envs/Taxi-v3/). \n",
        "\n",
        "We'll cover:\n",
        "\n",
        "-   A basic introduction to RL\n",
        "-   Setting up OpenAI Gym & Taxi\n",
        "-   Using the Q-learning algorithm to train our Taxi agent"
      ]
    },
    {
      "cell_type": "markdown",
      "metadata": {
        "id": "HfYSvJF6ocqk"
      },
      "source": [
        "# Before we start, what's 'Taxi'?\n",
        "\n",
        "Taxi is one of many environments available on OpenAI Gym. These environments are used to develop and benchmark reinforcement learning algorithms.\n",
        "\n",
        "The goal of Taxi is to pick-up passengers and drop them off at the destination in the least amount of moves. In this tutorial, you'll start with a taxi agent that takes actions randomly:\n",
        "\n",
        "![random agent](https://drive.google.com/uc?id=1l0XizDh9eGP3gVNCjJHrC0M3DeCWI8Fj)\n",
        "\n",
        "…and successfully apply reinforcement learning to solve the environment:\n",
        "\n",
        "![trained agent](https://drive.google.com/uc?id=1a-OeLhXi3W-kvQuhGRyJ1dOSw4vrIBxr)"
      ]
    },
    {
      "cell_type": "markdown",
      "metadata": {
        "id": "aZUF3oE-o889"
      },
      "source": [
        "# 💡 An introduction to Reinforcement Learning\n",
        "\n",
        "Think about how you might teach a dog a new trick, like telling it to sit:\n",
        "\n",
        "-   If it performs the trick correctly (it sits), you'll reward it with a treat (positive feedback) ✔️\n",
        "-   If it doesn't sit correctly, it doesn't get a treat (negative feedback) ❌\n",
        "\n",
        "By continuing to do things that lead to positive outcomes, the dog will learn to sit when it hears the command in order to get its treat. Reinforcement learning is a subdomain of machine learning which involves training an 'agent' (the dog) to learn the correct sequences of actions to take (sitting) on its environment (in response to the command 'sit') in order to maximise its reward (getting a treat). This can be illustrated more formally as:\n",
        "\n",
        "![sutton barto rl](https://www.gocoder.one/static/RL-diagram-b3654cd3d5cc0e07a61a214977038f01.png \"Reinforcement Learning diagram\")  \n",
        "Source: [Sutton & Barto](http://incompleteideas.net/book/bookdraft2017nov5.pdf)"
      ]
    },
    {
      "cell_type": "markdown",
      "metadata": {
        "id": "2aWkaLM_o2pH"
      },
      "source": [
        "# 🏋️ Installing OpenAI Gym and Taxi\n",
        "\n",
        "We'll be using the 'Taxi-v3' environment for this tutorial. To install gym (and numpy for later), run the cell below:\n"
      ]
    },
    {
      "cell_type": "code",
      "execution_count": null,
      "metadata": {
        "colab": {
          "base_uri": "https://localhost:8080/"
        },
        "id": "cyjebRSHnK1F",
        "outputId": "a48a669c-185f-4bbb-cc54-b0e27dafbe9a"
      },
      "outputs": [
        {
          "output_type": "stream",
          "name": "stdout",
          "text": [
            "Looking in indexes: https://pypi.org/simple, https://us-python.pkg.dev/colab-wheels/public/simple/\n",
            "Requirement already satisfied: gym in /usr/local/lib/python3.7/dist-packages (0.25.2)\n",
            "Requirement already satisfied: importlib-metadata>=4.8.0 in /usr/local/lib/python3.7/dist-packages (from gym) (4.12.0)\n",
            "Requirement already satisfied: cloudpickle>=1.2.0 in /usr/local/lib/python3.7/dist-packages (from gym) (1.5.0)\n",
            "Requirement already satisfied: numpy>=1.18.0 in /usr/local/lib/python3.7/dist-packages (from gym) (1.21.6)\n",
            "Requirement already satisfied: gym-notices>=0.0.4 in /usr/local/lib/python3.7/dist-packages (from gym) (0.0.8)\n",
            "Requirement already satisfied: typing-extensions>=3.6.4 in /usr/local/lib/python3.7/dist-packages (from importlib-metadata>=4.8.0->gym) (4.1.1)\n",
            "Requirement already satisfied: zipp>=0.5 in /usr/local/lib/python3.7/dist-packages (from importlib-metadata>=4.8.0->gym) (3.8.1)\n",
            "Looking in indexes: https://pypi.org/simple, https://us-python.pkg.dev/colab-wheels/public/simple/\n",
            "Requirement already satisfied: numpy in /usr/local/lib/python3.7/dist-packages (1.21.6)\n"
          ]
        }
      ],
      "source": [
        "!pip install gym\n",
        "!pip install numpy\n",
        "!pip install gym[toy_text]"
      ]
    },
    {
      "cell_type": "markdown",
      "metadata": {
        "id": "dAJK0BtorfEO"
      },
      "source": [
        "Next, import gym (and additional libraries that will be useful for later):"
      ]
    },
    {
      "cell_type": "code",
      "execution_count": null,
      "metadata": {
        "id": "m7As7qh4navx",
        "colab": {
          "base_uri": "https://localhost:8080/"
        },
        "outputId": "4d2d4edc-e3ac-460d-f104-90e6c1a62125"
      },
      "outputs": [
        {
          "output_type": "stream",
          "name": "stderr",
          "text": [
            "/usr/local/lib/python3.7/dist-packages/ipykernel_launcher.py:9: TqdmExperimentalWarning: Using `tqdm.autonotebook.tqdm` in notebook mode. Use `tqdm.tqdm` instead to force console mode (e.g. in jupyter console)\n",
            "  if __name__ == '__main__':\n"
          ]
        }
      ],
      "source": [
        "import gym                                          \n",
        "import numpy as np                                  \n",
        "import random\n",
        "\n",
        "\n",
        "from statistics import mean\n",
        "\n",
        "import matplotlib.pyplot as plt\n",
        "from tqdm.autonotebook import tqdm\n",
        "                   \n",
        "# used to help with visualizing in Colab                 \n",
        "from IPython.display import display, clear_output   \n",
        "from time import sleep                              "
      ]
    },
    {
      "cell_type": "markdown",
      "metadata": {
        "id": "TyMhgh3RsLWk"
      },
      "source": [
        "Gym contains a large library of different environments. Let's create the Taxi-v3 environment:"
      ]
    },
    {
      "cell_type": "code",
      "execution_count": null,
      "metadata": {
        "id": "VpYHWA95y_QJ",
        "colab": {
          "base_uri": "https://localhost:8080/"
        },
        "outputId": "197dafb7-9145-4d55-adce-feecf246e007"
      },
      "outputs": [
        {
          "output_type": "stream",
          "name": "stdout",
          "text": [
            "500\n",
            "6\n"
          ]
        }
      ],
      "source": [
        "# create Taxi environment\n",
        "env = gym.make('Taxi-v3')\n",
        "\n",
        "# env State and Action spaces\n",
        "state_size = env.observation_space.n\n",
        "print(state_size)\n",
        "\n",
        "action_size = env.action_space.n\n",
        "print(action_size)\n"
      ]
    },
    {
      "cell_type": "markdown",
      "metadata": {
        "id": "AWMjVABSsnWT"
      },
      "source": [
        "# 🎲 Random Agent\n",
        "\n",
        "We'll start by implementing an agent that doesn't learn at all. Instead, it will select actions at random. This will be our baseline.\n",
        "\n",
        "The first step is to give our agent the initial observation of the state. A state tells our agent what the current environment looks like. In Taxi, a state defines the current positions of the taxi, passenger, and pick-up and drop-off locations. Below are examples of three different states for Taxi:\n",
        "\n",
        "![taxi states](https://www.gocoder.one/static/taxi-states-0aad1b011cf3fe07b571712f2123335c.png \"Different Taxi states\")\n",
        "\n",
        "Note: Yellow = taxi, Blue letter = pickup location, Purple letter = drop-off destination\n",
        "\n",
        "To get the initial state:"
      ]
    },
    {
      "cell_type": "code",
      "source": [
        "import os\n",
        "os.environ[\"SDL_VIDEODRIVER\"] = \"dummy\""
      ],
      "metadata": {
        "id": "IJxCE4SilaWs"
      },
      "execution_count": null,
      "outputs": []
    },
    {
      "cell_type": "code",
      "execution_count": null,
      "metadata": {
        "id": "mNlV-YvdnlOH",
        "colab": {
          "base_uri": "https://localhost:8080/"
        },
        "outputId": "cd553ce1-de27-4e7d-9b8d-4c0f4b6618dc"
      },
      "outputs": [
        {
          "output_type": "stream",
          "name": "stdout",
          "text": [
            "Initial state: 322\n"
          ]
        }
      ],
      "source": [
        "# create a new instance of taxi, and get the initial state\n",
        "state = env.reset()\n",
        "\n",
        "print(f\"Initial state: {state}\")\n",
        "\n",
        "# render the state\n",
        "env.render()"
      ]
    },
    {
      "cell_type": "markdown",
      "metadata": {
        "id": "WM7GRNHnvRaH"
      },
      "source": [
        "Next, we'll run a for-loop to cycle through the game. At each iteration, our agent will:\n",
        "\n",
        "1. Make a random action from the action space (0 - south, 1 - north, 2 - east, 3 - west, 4 - pick-up, 5 - drop-off)\n",
        "2. Receive the new state\n",
        "\n",
        "Here's our random agent:"
      ]
    },
    {
      "cell_type": "code",
      "execution_count": null,
      "metadata": {
        "id": "aycxOXzQnoLU",
        "colab": {
          "base_uri": "https://localhost:8080/"
        },
        "outputId": "2ccc4853-123f-45ce-dab6-780c0ce69198"
      },
      "outputs": [
        {
          "output_type": "stream",
          "name": "stdout",
          "text": [
            "step: 99 out of 99\n"
          ]
        }
      ],
      "source": [
        "num_steps = 99\n",
        "for s in range(num_steps+1):\n",
        "\n",
        "    clear_output(wait=True) \n",
        "\n",
        "    print(f\"step: {s} out of {num_steps}\")\n",
        "\n",
        "    # sample a random action from the list of available actions\n",
        "    action = env.action_space.sample()\n",
        "\n",
        "    # perform this action on the environment\n",
        "    env.step(action)\n",
        "\n",
        "    # print the new state\n",
        "    env.render()\n",
        "\n",
        "    sleep(0.2)\n",
        "\n",
        "# end this instance of the taxi environment\n",
        "env.close()"
      ]
    },
    {
      "cell_type": "code",
      "source": [],
      "metadata": {
        "id": "SMjRknXyjzyF"
      },
      "execution_count": null,
      "outputs": []
    },
    {
      "cell_type": "markdown",
      "metadata": {
        "id": "8I-Whw1WxDra"
      },
      "source": [
        "When you run the cell above, you should see your agent making random moves. Not super exciting, but hopefully this helped you get familiar with the OpenAI Gym toolkit.\n",
        "\n",
        "Next, we'll implement the Q-learning algorithm that will enable our agent to learn from rewards."
      ]
    },
    {
      "cell_type": "markdown",
      "metadata": {
        "id": "xcmS8OwLyDL5"
      },
      "source": [
        "# 📖 Q-Learning Agent\n",
        "\n",
        "Q-learning is a reinforcement learning algorithm that seeks to find the best possible next action given its current state, in order to maximise the reward it receives (the 'Q' in Q-learning stands for quality - i.e. how valuable an action is).\n",
        "\n",
        "Let's take the following starting state:\n",
        "\n",
        "![taxi state](https://www.gocoder.one/static/start-state-6a115a72f07cea072c28503d3abf9819.png \"An example Taxi state\")\n",
        "\n",
        "Which action (up, down, left, right, pick-up or drop-off) should it take in order to maximise its reward? (_Note: blue = pick-up location and purple= drop-off destination_)\n",
        "\n",
        "First, let's take a look at how our agent is 'rewarded' for its actions. **Remember in reinforcement learning, we want our agent to take actions that will maximise the possible rewards it receives from its environment.**\n",
        "\n",
        "## 'Taxi' reward system\n",
        "\n",
        "According to the [Taxi documentation](https://gym.openai.com/envs/Taxi-v3/):\n",
        "\n",
        "> _\"…you receive +20 points for a successful drop-off, and lose 1 point for every timestep it takes. There is also a 10 point penalty for illegal pick-up and drop-off actions.\"_\n",
        "\n",
        "Looking back at our original state, the possible actions it can take and the corresponding rewards it will receive are shown below:\n",
        "\n",
        "![taxi rewards](https://www.gocoder.one/static/state-rewards-62ab43a53e07062b531b3199a8bab5b3.png \"Taxi rewards\")\n",
        "\n",
        "In the image above, the agent loses 1 point per timestep it takes. It will also lose 10 points if it uses the pick-up or drop-off action here.\n",
        "\n",
        "We want our agent to go North towards the pick-up location denoted by a blue R- **but how will it know which action to take if they are all equally punishing?**\n",
        "\n",
        "## Exploration\n",
        "\n",
        "Our agent currently has no way of knowing which action will lead it closest to the blue R. This is where trial-and-error comes in - we'll have our agent take random actions, and observe what rewards it gets (i.e. our agent will **explore**).\n",
        "\n",
        "Over many iterations, our agent will have observed that certain sequences of actions will be more rewarding than others. Along the way, our agent will need to keep track of which actions led to what rewards.\n",
        "\n",
        "## Introducing… Q-tables\n",
        "\n",
        "A Q-table is simply a look-up table storing values representing the maximum expected future rewards our agent can expect for a certain action in a certain state (_known as Q-values_). It will tell our agent that when it encounters a certain state, some actions are more likely than others to lead to higher rewards. It becomes a 'cheatsheet' telling our agent what the best action to take is.\n",
        "\n",
        "The image below illustrates what our 'Q-table' will look like:\n",
        "\n",
        "-   Each row corresponds to a unique state in the 'Taxi' environment\n",
        "-   Each column corresponds to an action our agent can take\n",
        "-   Each cell corresponds to the Q-value for that state-action pair - a higher Q-value means a higher maximum reward our agent can expect to get if it takes that action in that state.\n",
        "\n",
        "![Q table](https://www.gocoder.one/static/q-table-9461cc903f50b78d757ea30aeb3eb8bc.png \"Q table\")\n",
        "\n",
        "Before we begin training our agent, we'll need to initialize our Q-table as so:"
      ]
    },
    {
      "cell_type": "code",
      "execution_count": null,
      "metadata": {
        "id": "BVvgYgquUKBg",
        "colab": {
          "base_uri": "https://localhost:8080/"
        },
        "outputId": "5bb1cff0-159f-45c5-fd14-f19c767fd926"
      },
      "outputs": [
        {
          "output_type": "stream",
          "name": "stdout",
          "text": [
            "Q table: \n",
            "[[0. 0. 0. 0. 0. 0.]\n",
            " [0. 0. 0. 0. 0. 0.]\n",
            " [0. 0. 0. 0. 0. 0.]\n",
            " ...\n",
            " [0. 0. 0. 0. 0. 0.]\n",
            " [0. 0. 0. 0. 0. 0.]\n",
            " [0. 0. 0. 0. 0. 0.]]\n"
          ]
        }
      ],
      "source": [
        "state_size = env.observation_space.n  # total number of states (S)\n",
        "action_size = env.action_space.n      # total number of actions (A)\n",
        "\n",
        "# initialize a qtable with 0's for all Q-values\n",
        "qtable = np.zeros((state_size, action_size))\n",
        "\n",
        "print(f\"Q table: \\n{qtable}\")"
      ]
    },
    {
      "cell_type": "markdown",
      "metadata": {
        "id": "F0uvTrFXmJk7"
      },
      "source": [
        "As our agent explores, it will update the Q-table with the Q-values it finds. To calculate our Q-values, we'll introduce the Q-learning algorithm."
      ]
    },
    {
      "cell_type": "markdown",
      "metadata": {
        "id": "mdpsBFdJm9ve"
      },
      "source": [
        "# Q-Learning Algorithm\n",
        "\n",
        "The Q-learning algorithm is given below. We won't go into details, but you can read more about it in [Ch 6 of Sutton & Barto (2018)](http://www.incompleteideas.net/book/RLbook2018trimmed.pdf).\n",
        "\n",
        "![Q learning algorithm](https://www.gocoder.one/static/q-learning-algorithm-84b84bb5dc16ba8097e31aff7ea42748.png \"The Q learning algorithm\")\n",
        "\n",
        "The Q-learning algorithm will help our agent **update the current Q-value ($Q(S_t,A_t)$) with its observations after taking an action.** I.e. increase Q if it encountered a positive reward, or decrease Q if it encountered a negative one.\n",
        "\n",
        "Note that in Taxi, our agent doesn't receive a positive reward until it successfully drops off a passenger (_+20 points_). Hence even if our agent is heading in the correct direction, there will be a delay in the positive reward it should receive. The following term in the Q-learning equation addresses this:\n",
        "\n",
        "![maximum q](https://www.gocoder.one/static/max-q-e593ddcec76cda87ed189c31d60837b6.png \"Max Q value\")\n",
        "\n",
        "This term adjusts our current Q-value to include a portion of the rewards it may receive sometime in the future (St+1). The 'a' term refers to all the possible actions available for that state. The equation also contains two hyperparameters which we can specify:\n",
        "\n",
        "1. Learning rate (α): how easily the agent should accept new information over previously learnt information\n",
        "2. Discount factor (γ): how much the agent should take into consideration the rewards it could receive in the future versus its immediate reward\n",
        "\n",
        "Here's our implementation of the Q-learning algorithm:"
      ]
    },
    {
      "cell_type": "code",
      "execution_count": null,
      "metadata": {
        "id": "XsOWYTX4VsDz",
        "colab": {
          "base_uri": "https://localhost:8080/"
        },
        "outputId": "114f79a1-ea5d-4123-ba4d-b2d9a68089ff"
      },
      "outputs": [
        {
          "output_type": "stream",
          "name": "stdout",
          "text": [
            "Q-value for (state, action) pair (311, 5): 9.0\n"
          ]
        }
      ],
      "source": [
        "# hyperparameters to tune\n",
        "learning_rate = 0.9\n",
        "discount_rate = 0.8\n",
        "\n",
        "# dummy variables\n",
        "reward = 10 # R_(t+1)\n",
        "state = env.observation_space.sample()      # S_t\n",
        "action = env.action_space.sample()          # A_t\n",
        "new_state = env.observation_space.sample()  # S_(t+1)\n",
        "\n",
        "# Qlearning algorithm: Q(s,a) := Q(s,a) + learning_rate * (reward + discount_rate * max Q(s',a') - Q(s,a))\n",
        "qtable[state, action] += learning_rate * (reward + discount_rate * np.max(qtable[new_state,:]) - qtable[state,action])\n",
        "\n",
        "print(f\"Q-value for (state, action) pair ({state}, {action}): {qtable[state,action]}\")"
      ]
    },
    {
      "cell_type": "markdown",
      "metadata": {
        "id": "Bx5IMA1idW9X"
      },
      "source": [
        "## Exploration vs Exploitation Trade-off\n",
        "\n",
        "We can let our agent explore to update our Q-table using the Q-learning algorithm. As our agent learns more about the environment, we can let it use this knowledge to take more optimal actions and converge faster - known as **exploitation**.\n",
        "\n",
        "During exploitation, our agent will look at its Q-table and select the action with the highest Q-value (instead of a random action). Over time, our agent will need to explore less, and start exploiting what it knows instead.\n",
        "\n",
        "Here's our implementation of an exploration-exploitation strategy:"
      ]
    },
    {
      "cell_type": "code",
      "execution_count": null,
      "metadata": {
        "id": "3aorBEvYdSLr"
      },
      "outputs": [],
      "source": [
        "# dummy variables\n",
        "episode = random.randint(0,500)\n",
        "qtable = np.random.randn(env.observation_space.sample(), env.action_space.sample())\n",
        "\n",
        "# hyperparameters\n",
        "epsilon = 1.0     # probability that our agent will explore\n",
        "decay_rate = 0.01 # of epsilon\n",
        "\n",
        "if random.uniform(0,1) < epsilon:\n",
        "    # explore\n",
        "    action = env.action_space.sample()\n",
        "else:\n",
        "    # exploit\n",
        "    action = np.argmax(qtable[state,:])\n",
        "\n",
        "# epsilon decreases exponentially --> our agent will explore less and less\n",
        "epsilon = np.exp(-decay_rate*episode)"
      ]
    },
    {
      "cell_type": "markdown",
      "metadata": {
        "id": "G_zL2Vrd1yLv"
      },
      "source": [
        "In the example above, we set some value `epsilon` between 0 and 1. If `epsilon` is 0.7, there is a 70% chance that on this step our agent will explore instead of exploit. `epsilon` exponentially decays with each step, so that our agent explores less and less over time."
      ]
    },
    {
      "cell_type": "markdown",
      "metadata": {
        "id": "s5mA3SflarKs"
      },
      "source": [
        "# Bringing it all together\n",
        "\n",
        "We're done with all the building blocks needed for our reinforcement learning agent. The process for training our agent will look like:\n",
        "\n",
        "1. Initialising our Q-table with 0's for all Q-values\n",
        "2. Let our agent play Taxi over a large number of games\n",
        "3. Continuously update the Q-table using the Q-learning algorithm and an exploration-exploitation strategy\n",
        "\n",
        "Here's the full implementation:"
      ]
    },
    {
      "cell_type": "code",
      "execution_count": null,
      "metadata": {
        "id": "SiXAK2OdpteR",
        "colab": {
          "base_uri": "https://localhost:8080/",
          "height": 326,
          "referenced_widgets": [
            "547daf5317e14623946cef197a0fd4f8",
            "bbfc3e745b04412e89df40403b54af16",
            "3bbd0c62c3db4bb3925087777299017a",
            "2c5688806514461c92246860fc3a699c",
            "2bcaa5631890437aa4963337507312f3",
            "3d75725bd3e24a2682360d4ff0c857aa",
            "0a7ac97f999c4d539238415ca374a5a4",
            "3f71432e86194a5f84a99475a25d2576",
            "b1e9369463f54bf1b2e6474238fd63f1",
            "b9a21c1d3aeb4c02a697312cd6dd4b1e",
            "aa0b2882b3f84f03b87f579f2e0b4572"
          ]
        },
        "outputId": "f0cbce8f-2679-4843-b1d9-b679c3391846"
      },
      "outputs": [
        {
          "output_type": "stream",
          "name": "stdout",
          "text": [
            "AGENT IS TRAINING...\n"
          ]
        },
        {
          "output_type": "display_data",
          "data": {
            "text/plain": [
              "  0%|          | 0/2000 [00:00<?, ?it/s]"
            ],
            "application/vnd.jupyter.widget-view+json": {
              "version_major": 2,
              "version_minor": 0,
              "model_id": "547daf5317e14623946cef197a0fd4f8"
            }
          },
          "metadata": {}
        },
        {
          "output_type": "stream",
          "name": "stdout",
          "text": [
            "Our Q-table: [[  0.           0.           0.           0.           0.\n",
            "    0.        ]\n",
            " [ -4.04426914  -4.01998286  -4.05686647  -4.02706135  -1.6445568\n",
            "  -11.2543609 ]\n",
            " [ -2.0750071    1.50419934  -0.1387844   -3.31420697   3.192\n",
            "   -7.48931203]\n",
            " ...\n",
            " [ -3.14630078  -2.88102696  -2.79397663  -2.87190933 -11.1378096\n",
            "  -11.86499181]\n",
            " [ -4.00066623  -3.86904927  -3.97160723  -4.00173368 -12.85809665\n",
            "  -12.97105462]\n",
            " [ -1.7118      -1.647       -1.638       14.9998401   -9.\n",
            "  -10.7766    ]]\n",
            "Training completed over 2000 episodes\n"
          ]
        }
      ],
      "source": [
        "class bcolors:\n",
        "    RED= '\\u001b[31m'\n",
        "    GREEN= '\\u001b[32m'\n",
        "    RESET= '\\u001b[0m'\n",
        "\n",
        "# create Taxi environment\n",
        "env = gym.make('Taxi-v3')\n",
        "\n",
        "# initialize q-table\n",
        "state_size = env.observation_space.n\n",
        "action_size = env.action_space.n\n",
        "qtable = np.zeros((state_size, action_size))\n",
        "\n",
        "# hyperparameters\n",
        "learning_rate = 0.9\n",
        "discount_rate = 0.8\n",
        "epsilon = 1.0\n",
        "decay_rate= 0.005\n",
        "\n",
        "# training variables\n",
        "num_episodes = 2000\n",
        "max_steps = 99 # per episode\n",
        "\n",
        "print(\"AGENT IS TRAINING...\")\n",
        "\n",
        "rewards_array_mean = []\n",
        "rewards_array_sum = []\n",
        "epsilon_array = []\n",
        "\n",
        "for episode in tqdm(range(num_episodes)):\n",
        "\n",
        "\t# Reset the environment\n",
        "\tstate = env.reset()\n",
        "\tstep = 0\n",
        "\tdone = False\n",
        "\n",
        "\trewards = []\n",
        "    \n",
        "\tfor step in range(max_steps):\n",
        "\n",
        "\t\t# Exploration-exploitation tradeoff\n",
        "\t\tif random.uniform(0,1) < epsilon:\n",
        "\t\t\t# Explore\n",
        "\t\t\taction = env.action_space.sample()\n",
        "\t\telse:\n",
        "\t\t\t# Exploit\n",
        "\t\t\taction = np.argmax(qtable[state,:])\n",
        "\n",
        "\t\t# Take an action and observe the reward\n",
        "\t\tnew_state, reward, done, info = env.step(action)\n",
        "\n",
        "\t\trewards.append(reward)\n",
        "\n",
        "\t\t# Q-learning algorithm\n",
        "\t\tqtable[state,action] = qtable[state,action] + learning_rate * (reward + discount_rate * np.max(qtable[new_state,:])-qtable[state,action])\n",
        "\n",
        "\t\t# Update to our new state\n",
        "\t\tstate = new_state\n",
        "\n",
        "\t\t# if done, finish episode\n",
        "\t\tif done == True:\n",
        "\t\t\trewards_array_sum.append(sum(rewards))\n",
        "\t\t\trewards_array_mean.append(mean(rewards))\n",
        "\t\t\tbreak\n",
        "\n",
        "\t# Decrease epsilon\n",
        "\tepsilon_array.append(epsilon)\n",
        "\tepsilon = np.exp(-decay_rate*episode)\n",
        "\t\n",
        "#clear_output()\n",
        "print(f\"Our Q-table: {qtable}\")\n",
        "print(f\"Training completed over {num_episodes} episodes\")\n",
        "\n",
        "# Close the Taxi environment\n",
        "env.close()"
      ]
    },
    {
      "cell_type": "code",
      "execution_count": null,
      "metadata": {
        "colab": {
          "base_uri": "https://localhost:8080/",
          "height": 567
        },
        "id": "RWYrYuD5jKke",
        "outputId": "7f31b2e0-99ec-4a97-d687-d70e9a96b1d0"
      },
      "outputs": [
        {
          "output_type": "display_data",
          "data": {
            "text/plain": [
              "<Figure size 1152x648 with 1 Axes>"
            ],
            "image/png": "[encoded data removed]"
          },
          "metadata": {
            "needs_background": "light"
          }
        }
      ],
      "source": [
        "# Plot Epsilon change over training. \n",
        "\n",
        "# This gives us an idea regarding the number of random actions taken during each episode of the training process\n",
        "\n",
        "import matplotlib.pyplot as plt\n",
        "\n",
        "plt.figure(figsize=(16, 9))            \n",
        "plt.plot(epsilon_array, label='Epsilon')\n",
        "\n",
        "plt.ylabel('Epsilon')\n",
        "plt.xlabel('Episode')\n",
        "plt.title('Training Epsilon-Greedy')\n",
        "plt.legend()\n",
        "\n",
        "#plt.savefig(\"./CommonPlots/Rewards_Combined.svg\", dpi=150)\n",
        "\n",
        "plt.show()"
      ]
    },
    {
      "cell_type": "code",
      "execution_count": null,
      "metadata": {
        "colab": {
          "base_uri": "https://localhost:8080/",
          "height": 567
        },
        "id": "3Y3xJJlyjKkf",
        "outputId": "b5cf6399-2096-482f-cad8-0e633226dfb6"
      },
      "outputs": [
        {
          "output_type": "display_data",
          "data": {
            "text/plain": [
              "<Figure size 1152x648 with 1 Axes>"
            ],
            "image/png": "[encoded data removed]"
          },
          "metadata": {
            "needs_background": "light"
          }
        }
      ],
      "source": [
        "# Plot average rewards over the training process\n",
        "\n",
        "import matplotlib.pyplot as plt\n",
        "\n",
        "resolution = 10\n",
        "p = resolution\n",
        "\n",
        "# mean_rewards = rewards_array_mean\n",
        "\n",
        "mean_rewards = np.array([np.mean(rewards_array_mean[i-p:i+1]) \n",
        "                if i >= p else np.mean(rewards_array_mean[:i+1]) \n",
        "                for i, _ in enumerate(rewards_array_mean)])\n",
        "std_rewards = np.array([np.std(rewards_array_mean[i-p:i+1])\n",
        "               if i >= p else np.std(rewards_array_mean[:i+1])\n",
        "               for i, _ in enumerate(rewards_array_mean)])\n",
        "\n",
        "plt.figure(figsize=(16, 9))\n",
        "plt.fill_between(np.arange(len(mean_rewards)), \n",
        "                 mean_rewards - std_rewards, \n",
        "                 mean_rewards + std_rewards, \n",
        "                 label='Standard Deviation', alpha=0.3)             \n",
        "plt.plot(mean_rewards, label='Mean Rewards')\n",
        "\n",
        "plt.ylabel('Rewards')\n",
        "plt.xlabel('Episode')\n",
        "plt.title('Training Rewards')\n",
        "plt.legend()\n",
        "\n",
        "#plt.savefig(\"./CommonPlots/Rewards_Combined.svg\", dpi=150)\n",
        "\n",
        "plt.show()"
      ]
    },
    {
      "cell_type": "code",
      "execution_count": null,
      "metadata": {
        "colab": {
          "base_uri": "https://localhost:8080/",
          "height": 567
        },
        "id": "OcNIq-w0jKkf",
        "outputId": "75061e5e-dbb1-44ec-866d-61521fa73515"
      },
      "outputs": [
        {
          "output_type": "display_data",
          "data": {
            "text/plain": [
              "<Figure size 1152x648 with 1 Axes>"
            ],
            "image/png": "[encoded data removed]"
          },
          "metadata": {
            "needs_background": "light"
          }
        }
      ],
      "source": [
        "# Plot sum of rewards over the training process\n",
        "\n",
        "import matplotlib.pyplot as plt\n",
        "\n",
        "resolution = 10\n",
        "p = resolution\n",
        "\n",
        "mean_rewards = np.array([np.mean(rewards_array_sum[i-p:i+1]) \n",
        "                if i >= p else np.mean(rewards_array_sum[:i+1]) \n",
        "                for i, _ in enumerate(rewards_array_sum)])\n",
        "std_rewards = np.array([np.std(rewards_array_sum[i-p:i+1])\n",
        "               if i >= p else np.std(rewards_array_sum[:i+1])\n",
        "               for i, _ in enumerate(rewards_array_sum)])\n",
        "\n",
        "plt.figure(figsize=(16, 9))\n",
        "plt.fill_between(np.arange(len(mean_rewards)), \n",
        "                 mean_rewards - std_rewards, \n",
        "                 mean_rewards + std_rewards, \n",
        "                 label='Standard Deviation', alpha=0.3)             \n",
        "plt.plot(mean_rewards, label='Mean Rewards')\n",
        "\n",
        "plt.ylabel('Rewards')\n",
        "plt.xlabel('Episode')\n",
        "plt.title('Training Rewards')\n",
        "plt.legend()\n",
        "\n",
        "#plt.savefig(\"./CommonPlots/Rewards_Combined.svg\", dpi=150)\n",
        "\n",
        "plt.show()"
      ]
    },
    {
      "cell_type": "code",
      "execution_count": null,
      "metadata": {
        "colab": {
          "base_uri": "https://localhost:8080/"
        },
        "id": "EBpus7ObjKkg",
        "outputId": "1f02130e-0d80-42c7-b77e-c88bad8519cd"
      },
      "outputs": [
        {
          "output_type": "stream",
          "name": "stdout",
          "text": [
            "TRAINED AGENT\n",
            "+++++EPISODE 3+++++\n",
            "Step 14\n",
            "\n",
            "Score: \u001b[32m7\u001b[0m\n"
          ]
        }
      ],
      "source": [
        "# Get ready to watch our trained agent\n",
        "\n",
        "#input(\"Press Enter to see our trained taxi agent\")\n",
        "#sleep(1)\n",
        "#clear_output()  \n",
        "\n",
        "env = gym.make('Taxi-v3')\n",
        "\n",
        "episodes_to_preview = 3\n",
        "\n",
        "rewards = []\n",
        "\n",
        "for episode in range(episodes_to_preview):\n",
        "\n",
        "\t# Reset the environment\n",
        "\tstate = env.reset()\n",
        "\tstep = 0\n",
        "\tdone = False\n",
        "\tepisode_rewards = 0\n",
        "\n",
        "\tfor step in range(num_steps):\n",
        "\t\t# clear screen\n",
        "\t\tclear_output(wait=True)\n",
        "\n",
        "\t\tprint(f\"TRAINED AGENT\")\n",
        "\t\tprint(f\"+++++EPISODE {episode+1}+++++\")\n",
        "\t\tprint(f\"Step {step+1}\")\n",
        "\n",
        "\t\t# Exploit\n",
        "\t\taction = np.argmax(qtable[state,:])\n",
        "\n",
        "\t\t# Take an action and observe the reward\n",
        "\t\tnew_state, reward, done, info = env.step(action)\n",
        "\n",
        "\t\t# Accumulate our rewards    \n",
        "\t\tepisode_rewards += reward\n",
        "\n",
        "\t\tenv.render()\n",
        "\t\tprint(\"\")\n",
        "\t\tif episode_rewards < 0:\n",
        "\t\t\tprint(f\"Score: {bcolors.RED}{episode_rewards}{bcolors.RESET}\")\n",
        "\t\telse:\n",
        "\t\t\tprint(f\"Score: {bcolors.GREEN}{episode_rewards}{bcolors.RESET}\")\n",
        "\t\tsleep(0.5)   \n",
        "\t\t    \n",
        "\t\t# Update to our new state\n",
        "\t\tstate = new_state\n",
        "\n",
        "\t\t# if done, finish episode\n",
        "\t\tif done == True:\n",
        "\t\t\trewards.append(episode_rewards)\n",
        "\t\t\tbreak  \n",
        "\n",
        "# Close the Taxi environment\n",
        "env.close()"
      ]
    },
    {
      "cell_type": "code",
      "execution_count": null,
      "metadata": {
        "id": "bMbM6iEmjKkg"
      },
      "outputs": [],
      "source": [
        "print(\"rewards over testing: \",rewards)"
      ]
    },
    {
      "cell_type": "markdown",
      "metadata": {
        "id": "m_tmtN9koho8"
      },
      "source": [
        "# 👏 What's next?\n",
        "\n",
        "There are many other environments available on OpenAI Gym for you to try (e.g. [Frozen Lake](https://gym.openai.com/envs/FrozenLake-v0/)). You can also try optimising the implementation above to solve Taxi in fewer episodes.\n",
        "\n",
        "Some other useful resources include:\n",
        "-   [DeepMind x UCL Reinforcement Learning Lecture Series [2021]](https://deepmind.com/learning-resources/reinforcement-learning-series-2021)\n",
        "-   [A (Long) Peek into Reinforcement Learning](https://lilianweng.github.io/lil-log/2018/02/19/a-long-peek-into-reinforcement-learning.html) by Lilian Weng\n",
        "-   [A good article on RL and its real-world applications](https://www.altexsoft.com/blog/datascience/reinforcement-learning-explained-overview-comparisons-and-applications-in-business/)\n",
        "-   [AlphaGo full documentary](https://www.youtube.com/watch?v=WXuK6gekU1Y) (on Youtube)\n",
        "-   [Reinforcement Learning](http://www.incompleteideas.net/book/RLbook2018trimmed.pdf) by Sutton and Barto\n",
        "-   [Hands-on introduction to deep reinforcement learning](https://www.gocoder.one/blog/hands-on-introduction-to-deep-reinforcement-learning)"
      ]
    }
  ],
  "metadata": {
    "colab": {
      "collapsed_sections": [],
      "provenance": [],
      "include_colab_link": true
    },
    "kernelspec": {
      "display_name": "Python 3.9.1 ('base')",
      "language": "python",
      "name": "python3"
    },
    "language_info": {
      "codemirror_mode": {
        "name": "ipython",
        "version": 3
      },
      "file_extension": ".py",
      "mimetype": "text/x-python",
      "name": "python",
      "nbconvert_exporter": "python",
      "pygments_lexer": "ipython3",
      "version": "3.9.1"
    },
    "vscode": {
      "interpreter": {
        "hash": "af8259ad5c1c9c7a69bd6ea085234cf8fd3a6a37a71ca551828b314c4d89b0ad"
      }
    },
    "accelerator": "GPU",
    "widgets": {
      "application/vnd.jupyter.widget-state+json": {
        "547daf5317e14623946cef197a0fd4f8": {
          "model_module": "@jupyter-widgets/controls",
          "model_name": "HBoxModel",
          "model_module_version": "1.5.0",
          "state": {
            "_dom_classes": [],
            "_model_module": "@jupyter-widgets/controls",
            "_model_module_version": "1.5.0",
            "_model_name": "HBoxModel",
            "_view_count": null,
            "_view_module": "@jupyter-widgets/controls",
            "_view_module_version": "1.5.0",
            "_view_name": "HBoxView",
            "box_style": "",
            "children": [
              "IPY_MODEL_bbfc3e745b04412e89df40403b54af16",
              "IPY_MODEL_3bbd0c62c3db4bb3925087777299017a",
              "IPY_MODEL_2c5688806514461c92246860fc3a699c"
            ],
            "layout": "IPY_MODEL_2bcaa5631890437aa4963337507312f3"
          }
        },
        "bbfc3e745b04412e89df40403b54af16": {
          "model_module": "@jupyter-widgets/controls",
          "model_name": "HTMLModel",
          "model_module_version": "1.5.0",
          "state": {
            "_dom_classes": [],
            "_model_module": "@jupyter-widgets/controls",
            "_model_module_version": "1.5.0",
            "_model_name": "HTMLModel",
            "_view_count": null,
            "_view_module": "@jupyter-widgets/controls",
            "_view_module_version": "1.5.0",
            "_view_name": "HTMLView",
            "description": "",
            "description_tooltip": null,
            "layout": "IPY_MODEL_3d75725bd3e24a2682360d4ff0c857aa",
            "placeholder": "​",
            "style": "IPY_MODEL_0a7ac97f999c4d539238415ca374a5a4",
            "value": "100%"
          }
        },
        "3bbd0c62c3db4bb3925087777299017a": {
          "model_module": "@jupyter-widgets/controls",
          "model_name": "FloatProgressModel",
          "model_module_version": "1.5.0",
          "state": {
            "_dom_classes": [],
            "_model_module": "@jupyter-widgets/controls",
            "_model_module_version": "1.5.0",
            "_model_name": "FloatProgressModel",
            "_view_count": null,
            "_view_module": "@jupyter-widgets/controls",
            "_view_module_version": "1.5.0",
            "_view_name": "ProgressView",
            "bar_style": "success",
            "description": "",
            "description_tooltip": null,
            "layout": "IPY_MODEL_3f71432e86194a5f84a99475a25d2576",
            "max": 2000,
            "min": 0,
            "orientation": "horizontal",
            "style": "IPY_MODEL_b1e9369463f54bf1b2e6474238fd63f1",
            "value": 2000
          }
        },
        "2c5688806514461c92246860fc3a699c": {
          "model_module": "@jupyter-widgets/controls",
          "model_name": "HTMLModel",
          "model_module_version": "1.5.0",
          "state": {
            "_dom_classes": [],
            "_model_module": "@jupyter-widgets/controls",
            "_model_module_version": "1.5.0",
            "_model_name": "HTMLModel",
            "_view_count": null,
            "_view_module": "@jupyter-widgets/controls",
            "_view_module_version": "1.5.0",
            "_view_name": "HTMLView",
            "description": "",
            "description_tooltip": null,
            "layout": "IPY_MODEL_b9a21c1d3aeb4c02a697312cd6dd4b1e",
            "placeholder": "​",
            "style": "IPY_MODEL_aa0b2882b3f84f03b87f579f2e0b4572",
            "value": " 2000/2000 [00:03&lt;00:00, 1031.55it/s]"
          }
        },
        "2bcaa5631890437aa4963337507312f3": {
          "model_module": "@jupyter-widgets/base",
          "model_name": "LayoutModel",
          "model_module_version": "1.2.0",
          "state": {
            "_model_module": "@jupyter-widgets/base",
            "_model_module_version": "1.2.0",
            "_model_name": "LayoutModel",
            "_view_count": null,
            "_view_module": "@jupyter-widgets/base",
            "_view_module_version": "1.2.0",
            "_view_name": "LayoutView",
            "align_content": null,
            "align_items": null,
            "align_self": null,
            "border": null,
            "bottom": null,
            "display": null,
            "flex": null,
            "flex_flow": null,
            "grid_area": null,
            "grid_auto_columns": null,
            "grid_auto_flow": null,
            "grid_auto_rows": null,
            "grid_column": null,
            "grid_gap": null,
            "grid_row": null,
            "grid_template_areas": null,
            "grid_template_columns": null,
            "grid_template_rows": null,
            "height": null,
            "justify_content": null,
            "justify_items": null,
            "left": null,
            "margin": null,
            "max_height": null,
            "max_width": null,
            "min_height": null,
            "min_width": null,
            "object_fit": null,
            "object_position": null,
            "order": null,
            "overflow": null,
            "overflow_x": null,
            "overflow_y": null,
            "padding": null,
            "right": null,
            "top": null,
            "visibility": null,
            "width": null
          }
        },
        "3d75725bd3e24a2682360d4ff0c857aa": {
          "model_module": "@jupyter-widgets/base",
          "model_name": "LayoutModel",
          "model_module_version": "1.2.0",
          "state": {
            "_model_module": "@jupyter-widgets/base",
            "_model_module_version": "1.2.0",
            "_model_name": "LayoutModel",
            "_view_count": null,
            "_view_module": "@jupyter-widgets/base",
            "_view_module_version": "1.2.0",
            "_view_name": "LayoutView",
            "align_content": null,
            "align_items": null,
            "align_self": null,
            "border": null,
            "bottom": null,
            "display": null,
            "flex": null,
            "flex_flow": null,
            "grid_area": null,
            "grid_auto_columns": null,
            "grid_auto_flow": null,
            "grid_auto_rows": null,
            "grid_column": null,
            "grid_gap": null,
            "grid_row": null,
            "grid_template_areas": null,
            "grid_template_columns": null,
            "grid_template_rows": null,
            "height": null,
            "justify_content": null,
            "justify_items": null,
            "left": null,
            "margin": null,
            "max_height": null,
            "max_width": null,
            "min_height": null,
            "min_width": null,
            "object_fit": null,
            "object_position": null,
            "order": null,
            "overflow": null,
            "overflow_x": null,
            "overflow_y": null,
            "padding": null,
            "right": null,
            "top": null,
            "visibility": null,
            "width": null
          }
        },
        "0a7ac97f999c4d539238415ca374a5a4": {
          "model_module": "@jupyter-widgets/controls",
          "model_name": "DescriptionStyleModel",
          "model_module_version": "1.5.0",
          "state": {
            "_model_module": "@jupyter-widgets/controls",
            "_model_module_version": "1.5.0",
            "_model_name": "DescriptionStyleModel",
            "_view_count": null,
            "_view_module": "@jupyter-widgets/base",
            "_view_module_version": "1.2.0",
            "_view_name": "StyleView",
            "description_width": ""
          }
        },
        "3f71432e86194a5f84a99475a25d2576": {
          "model_module": "@jupyter-widgets/base",
          "model_name": "LayoutModel",
          "model_module_version": "1.2.0",
          "state": {
            "_model_module": "@jupyter-widgets/base",
            "_model_module_version": "1.2.0",
            "_model_name": "LayoutModel",
            "_view_count": null,
            "_view_module": "@jupyter-widgets/base",
            "_view_module_version": "1.2.0",
            "_view_name": "LayoutView",
            "align_content": null,
            "align_items": null,
            "align_self": null,
            "border": null,
            "bottom": null,
            "display": null,
            "flex": null,
            "flex_flow": null,
            "grid_area": null,
            "grid_auto_columns": null,
            "grid_auto_flow": null,
            "grid_auto_rows": null,
            "grid_column": null,
            "grid_gap": null,
            "grid_row": null,
            "grid_template_areas": null,
            "grid_template_columns": null,
            "grid_template_rows": null,
            "height": null,
            "justify_content": null,
            "justify_items": null,
            "left": null,
            "margin": null,
            "max_height": null,
            "max_width": null,
            "min_height": null,
            "min_width": null,
            "object_fit": null,
            "object_position": null,
            "order": null,
            "overflow": null,
            "overflow_x": null,
            "overflow_y": null,
            "padding": null,
            "right": null,
            "top": null,
            "visibility": null,
            "width": null
          }
        },
        "b1e9369463f54bf1b2e6474238fd63f1": {
          "model_module": "@jupyter-widgets/controls",
          "model_name": "ProgressStyleModel",
          "model_module_version": "1.5.0",
          "state": {
            "_model_module": "@jupyter-widgets/controls",
            "_model_module_version": "1.5.0",
            "_model_name": "ProgressStyleModel",
            "_view_count": null,
            "_view_module": "@jupyter-widgets/base",
            "_view_module_version": "1.2.0",
            "_view_name": "StyleView",
            "bar_color": null,
            "description_width": ""
          }
        },
        "b9a21c1d3aeb4c02a697312cd6dd4b1e": {
          "model_module": "@jupyter-widgets/base",
          "model_name": "LayoutModel",
          "model_module_version": "1.2.0",
          "state": {
            "_model_module": "@jupyter-widgets/base",
            "_model_module_version": "1.2.0",
            "_model_name": "LayoutModel",
            "_view_count": null,
            "_view_module": "@jupyter-widgets/base",
            "_view_module_version": "1.2.0",
            "_view_name": "LayoutView",
            "align_content": null,
            "align_items": null,
            "align_self": null,
            "border": null,
            "bottom": null,
            "display": null,
            "flex": null,
            "flex_flow": null,
            "grid_area": null,
            "grid_auto_columns": null,
            "grid_auto_flow": null,
            "grid_auto_rows": null,
            "grid_column": null,
            "grid_gap": null,
            "grid_row": null,
            "grid_template_areas": null,
            "grid_template_columns": null,
            "grid_template_rows": null,
            "height": null,
            "justify_content": null,
            "justify_items": null,
            "left": null,
            "margin": null,
            "max_height": null,
            "max_width": null,
            "min_height": null,
            "min_width": null,
            "object_fit": null,
            "object_position": null,
            "order": null,
            "overflow": null,
            "overflow_x": null,
            "overflow_y": null,
            "padding": null,
            "right": null,
            "top": null,
            "visibility": null,
            "width": null
          }
        },
        "aa0b2882b3f84f03b87f579f2e0b4572": {
          "model_module": "@jupyter-widgets/controls",
          "model_name": "DescriptionStyleModel",
          "model_module_version": "1.5.0",
          "state": {
            "_model_module": "@jupyter-widgets/controls",
            "_model_module_version": "1.5.0",
            "_model_name": "DescriptionStyleModel",
            "_view_count": null,
            "_view_module": "@jupyter-widgets/base",
            "_view_module_version": "1.2.0",
            "_view_name": "StyleView",
            "description_width": ""
          }
        }
      }
    }
  },
  "nbformat": 4,
  "nbformat_minor": 0
}